{
 "cells": [
  {
   "cell_type": "code",
   "execution_count": 5,
   "metadata": {},
   "outputs": [
    {
     "name": "stdout",
     "output_type": "stream",
     "text": [
      "usha Hi\n"
     ]
    }
   ],
   "source": [
    "def print_message(name,age):\n",
    "    print(age + \" \" +name)\n",
    "greet = \"Hi\"\n",
    "noun = \"usha\"\n",
    "print_message(name = greet, age = noun)"
   ]
  },
  {
   "cell_type": "code",
   "execution_count": 8,
   "metadata": {},
   "outputs": [],
   "source": [
    "def sum_of_nums(num1,num2):\n",
    "    total = (num1 + int(num2))\n",
    "    return total\n",
    "# m = 12\n",
    "# l = 3.6\n",
    "# total = sum_of_nums(num1=l,num2 = m)\n",
    "# print(total)"
   ]
  },
  {
   "cell_type": "code",
   "execution_count": 11,
   "metadata": {},
   "outputs": [
    {
     "name": "stdout",
     "output_type": "stream",
     "text": [
      "hello world\n"
     ]
    }
   ],
   "source": [
    "def print_msg(g = \"hello\" ,h = \"world\"):\n",
    "    print(g + \" \" + h)\n",
    "print_msg()"
   ]
  },
  {
   "cell_type": "code",
   "execution_count": 12,
   "metadata": {},
   "outputs": [
    {
     "name": "stdout",
     "output_type": "stream",
     "text": [
      "velop\n"
     ]
    }
   ],
   "source": [
    "def slicing(start,stop,end,word):\n",
    "    print(word[start:stop])\n",
    "start = 2\n",
    "end = 7\n",
    "step = 1\n",
    "word = \"developer\"\n",
    "slicing(start,end,step,word)"
   ]
  },
  {
   "cell_type": "code",
   "execution_count": 13,
   "metadata": {},
   "outputs": [
    {
     "name": "stdout",
     "output_type": "stream",
     "text": [
      "Table\n"
     ]
    }
   ],
   "source": [
    "def get_pattern(furniture):\n",
    "    special_char = \"@\"\n",
    "    furniture = special_char + furniture +special_char\n",
    "furniture = \"Table\"\n",
    "get_pattern(furniture)\n",
    "print(furniture)"
   ]
  },
  {
   "cell_type": "code",
   "execution_count": 15,
   "metadata": {},
   "outputs": [
    {
     "name": "stdout",
     "output_type": "stream",
     "text": [
      "None\n"
     ]
    }
   ],
   "source": [
    "def compare(x,y):\n",
    "    if x<y:\n",
    "        result = x\n",
    "    else:\n",
    "        result = y\n",
    "x = 12\n",
    "y= 15\n",
    "result = compare(y = y,x = x)\n",
    "print(result)"
   ]
  },
  {
   "cell_type": "code",
   "execution_count": 16,
   "metadata": {},
   "outputs": [
    {
     "name": "stdout",
     "output_type": "stream",
     "text": [
      "i\n"
     ]
    }
   ],
   "source": [
    "def slicing(word,start_num = 1,end_num = 2,step = 1):\n",
    "    new_word = word[start_num:end_num]\n",
    "    print(new_word)\n",
    "word = \"bird\"\n",
    "start_num = 1\n",
    "end_num = 2   \n",
    "slicing(word,start_num,end_num)\n"
   ]
  },
  {
   "cell_type": "code",
   "execution_count": 17,
   "metadata": {},
   "outputs": [
    {
     "name": "stdout",
     "output_type": "stream",
     "text": [
      "8\n"
     ]
    }
   ],
   "source": [
    "def get_doubled_number(number):\n",
    "    number += number\n",
    "number = 8\n",
    "get_doubled_number(number)\n",
    "print(number)"
   ]
  },
  {
   "cell_type": "code",
   "execution_count": 18,
   "metadata": {},
   "outputs": [
    {
     "name": "stdout",
     "output_type": "stream",
     "text": [
      "Happy Birthday Ramu\n"
     ]
    }
   ],
   "source": [
    "def print_greeting(name,greeting=\"Happy\"):\n",
    "    print(greeting + \" Birthday \" + name)\n",
    "name = \"Ramu\"\n",
    "print_greeting(name)"
   ]
  },
  {
   "cell_type": "code",
   "execution_count": 22,
   "metadata": {},
   "outputs": [
    {
     "name": "stdout",
     "output_type": "stream",
     "text": [
      "8\n"
     ]
    }
   ],
   "source": [
    "def get_smaller_num(p,q):\n",
    "    if p>q:\n",
    "        result = p\n",
    "    else:\n",
    "        result = q\n",
    "    return result\n",
    "p = 8\n",
    "q = 4\n",
    "result = get_smaller_num(p,q)\n",
    "print(result)\n"
   ]
  },
  {
   "cell_type": "code",
   "execution_count": 23,
   "metadata": {},
   "outputs": [
    {
     "ename": "SyntaxError",
     "evalue": "non-default argument follows default argument (1377476956.py, line 1)",
     "output_type": "error",
     "traceback": [
      "\u001b[1;36m  Cell \u001b[1;32mIn[23], line 1\u001b[1;36m\u001b[0m\n\u001b[1;33m    def print_wish(arg1 = \"Happy\", arg2):\u001b[0m\n\u001b[1;37m                                   ^\u001b[0m\n\u001b[1;31mSyntaxError\u001b[0m\u001b[1;31m:\u001b[0m non-default argument follows default argument\n"
     ]
    }
   ],
   "source": [
    "def print_wish(arg1 = \"Happy\", arg2):\n",
    "    print(arg1 + \" \" + arg2)\n",
    "greet = \"Welcome\"\n",
    "name = \"James\"\n",
    "print_wish(arg2 = name)\n",
    "    "
   ]
  },
  {
   "cell_type": "code",
   "execution_count": 24,
   "metadata": {},
   "outputs": [
    {
     "name": "stdout",
     "output_type": "stream",
     "text": [
      "0\n"
     ]
    }
   ],
   "source": [
    "def get_product(l,m,n=2):\n",
    "    total = l * m *n\n",
    "    return total\n",
    "l=5\n",
    "m=6\n",
    "n=0\n",
    "total = get_product(l,m,n)\n",
    "print(total)"
   ]
  },
  {
   "cell_type": "code",
   "execution_count": 25,
   "metadata": {},
   "outputs": [
    {
     "name": "stdout",
     "output_type": "stream",
     "text": [
      "9 5\n"
     ]
    }
   ],
   "source": [
    "def swap_of_nums(x,y):\n",
    "    x = x + y\n",
    "    y = x - y\n",
    "    x = x - y\n",
    "    print(str(x) + \" \" + str(y))\n",
    "\n",
    "x = 5\n",
    "y = 9\n",
    "swap_of_nums(x,y)"
   ]
  },
  {
   "cell_type": "code",
   "execution_count": 26,
   "metadata": {},
   "outputs": [
    {
     "name": "stdout",
     "output_type": "stream",
     "text": [
      "0\n"
     ]
    }
   ],
   "source": [
    "#Recurssion\n",
    "\n",
    "def compute_factorial(n):\n",
    "    if n<=0:\n",
    "        return 0\n",
    "    else:\n",
    "        return n * compute_factorial(n -1)\n",
    "num = 3\n",
    "result = compute_factorial(num)\n",
    "print(result)"
   ]
  },
  {
   "cell_type": "code",
   "execution_count": 27,
   "metadata": {},
   "outputs": [
    {
     "name": "stdout",
     "output_type": "stream",
     "text": [
      "Happy Birthday usha\n"
     ]
    }
   ],
   "source": [
    "def wish(name):\n",
    "    greeting = \"Happy Birthday \"\n",
    "    greeting = get_message(greeting,name)\n",
    "    print(greeting)\n",
    "def get_message(greeting,name):\n",
    "    greeting = greeting + name\n",
    "    return greeting\n",
    "name = \"usha\"\n",
    "wish(name)"
   ]
  },
  {
   "cell_type": "code",
   "execution_count": 28,
   "metadata": {},
   "outputs": [
    {
     "name": "stdout",
     "output_type": "stream",
     "text": [
      "6\n"
     ]
    }
   ],
   "source": [
    "def compute_factorial(n):\n",
    "    if n <= 0:\n",
    "        return 1\n",
    "    else:\n",
    "        return n * compute_factorial(n-1)\n",
    "num = 3\n",
    "result = compute_factorial(num)\n",
    "print(result)"
   ]
  },
  {
   "cell_type": "code",
   "execution_count": 29,
   "metadata": {},
   "outputs": [
    {
     "name": "stdout",
     "output_type": "stream",
     "text": [
      "12\n"
     ]
    }
   ],
   "source": [
    "def func1(m ,n):\n",
    "    m +=2\n",
    "    n +=2\n",
    "    func2(m,n)\n",
    "    print(m+n)\n",
    "def func2(m,n):\n",
    "    m +=4\n",
    "    n +=4\n",
    "func1(5,3)"
   ]
  },
  {
   "cell_type": "code",
   "execution_count": 30,
   "metadata": {},
   "outputs": [
    {
     "name": "stdout",
     "output_type": "stream",
     "text": [
      "5 4\n"
     ]
    }
   ],
   "source": [
    "def function_1(a,b):\n",
    "    a = a+b\n",
    "    result = function_2(a,b)\n",
    "    print(result)\n",
    "def function_2(a,b):\n",
    "    b = a - b\n",
    "    a = a - b\n",
    "    result = str(a) + \" \" + str(b)\n",
    "    return result\n",
    "function_1(4,5)"
   ]
  }
 ],
 "metadata": {
  "kernelspec": {
   "display_name": "Python 3",
   "language": "python",
   "name": "python3"
  },
  "language_info": {
   "codemirror_mode": {
    "name": "ipython",
    "version": 3
   },
   "file_extension": ".py",
   "mimetype": "text/x-python",
   "name": "python",
   "nbconvert_exporter": "python",
   "pygments_lexer": "ipython3",
   "version": "3.10.8"
  }
 },
 "nbformat": 4,
 "nbformat_minor": 2
}
