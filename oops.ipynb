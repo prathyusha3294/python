{
 "cells": [
  {
   "cell_type": "code",
   "execution_count": 1,
   "metadata": {},
   "outputs": [
    {
     "name": "stdout",
     "output_type": "stream",
     "text": [
      "Brand: Toyota, Model: Corolla, Number of Doors: 4\n",
      "Brand: Yamaha, Model: FZ, Type: Sport\n"
     ]
    }
   ],
   "source": [
    "#inheritance\n",
    "\n",
    "class Vehicle:\n",
    "    def __init__(self, brand, model):\n",
    "        self.brand = brand\n",
    "        self.model = model\n",
    "\n",
    "    def display_info(self):\n",
    "        return f\"Brand: {self.brand}, Model: {self.model}\"\n",
    "\n",
    "class Car(Vehicle):\n",
    "    def __init__(self, brand, model, num_doors):\n",
    "        super().__init__(brand, model)  # Call the parent class constructor\n",
    "        self.num_doors = num_doors\n",
    "\n",
    "    def display_info(self):\n",
    "        return f\"{super().display_info()}, Number of Doors: {self.num_doors}\"\n",
    "\n",
    "class Bike(Vehicle):\n",
    "    def __init__(self, brand, model, type):\n",
    "        super().__init__(brand, model)\n",
    "        self.type = type\n",
    "\n",
    "    def display_info(self):\n",
    "        return f\"{super().display_info()}, Type: {self.type}\"\n",
    "\n",
    "car = Car(\"Toyota\", \"Corolla\", 4)\n",
    "bike = Bike(\"Yamaha\", \"FZ\", \"Sport\")\n",
    "\n",
    "print(car.display_info())  \n",
    "print(bike.display_info())                                                                                                                                                  "
   ]
  },
  {
   "cell_type": "code",
   "execution_count": 2,
   "metadata": {},
   "outputs": [
    {
     "name": "stdout",
     "output_type": "stream",
     "text": [
      "10 20 30\n"
     ]
    }
   ],
   "source": [
    "#constructor chaining\n",
    "\n",
    "class Base:\n",
    "    def __init__(self, value,x):\n",
    "        self.value = value\n",
    "        self.x = x\n",
    "\n",
    "class Derived(Base):\n",
    "    def __init__(self, value,x, extra):\n",
    "        super().__init__(value,x)\n",
    "        self.extra = extra\n",
    "\n",
    "obj = Derived(10, 20,30)\n",
    "print(obj.value, obj.x,obj.extra)"
   ]
  },
  {
   "cell_type": "code",
   "execution_count": 2,
   "metadata": {},
   "outputs": [
    {
     "name": "stdout",
     "output_type": "stream",
     "text": [
      "HELLO WORLD\n"
     ]
    }
   ],
   "source": [
    "#method chaining\n",
    "\n",
    "class Fluent:\n",
    "    def __init__(self):\n",
    "        self.data = \"\"\n",
    "\n",
    "    def append(self, text):\n",
    "        self.data += text\n",
    "        return self\n",
    "\n",
    "    def uppercase(self):\n",
    "        self.data = self.data.upper()\n",
    "        return self\n",
    "\n",
    "    def result(self):\n",
    "        return self.data\n",
    "\n",
    "fluent = Fluent()\n",
    "result = fluent.append(\"Hello \").append(\"World\").uppercase().result()\n",
    "print(result) \n"
   ]
  },
  {
   "cell_type": "code",
   "execution_count": 4,
   "metadata": {},
   "outputs": [
    {
     "name": "stdout",
     "output_type": "stream",
     "text": [
      "6.0\n"
     ]
    }
   ],
   "source": [
    "class MyClass:\n",
    "    def __init__(self, value=0):\n",
    "        self.value = value\n",
    "\n",
    "    def add(self, amount):\n",
    "        self.value += amount\n",
    "        return self\n",
    "\n",
    "    def subtract(self, amount):\n",
    "        self.value -= amount\n",
    "        return self\n",
    "\n",
    "    def multiply(self, factor):\n",
    "        self.value *= factor\n",
    "        return self\n",
    "\n",
    "    def divide(self, divisor):\n",
    "        if divisor != 0:\n",
    "            self.value /= divisor\n",
    "        return self\n",
    "\n",
    "    def result(self):\n",
    "        return self.value\n",
    "obj = MyClass()\n",
    "result = obj.add(10).subtract(2).multiply(3).divide(4).result()\n",
    "print(result)"
   ]
  },
  {
   "cell_type": "code",
   "execution_count": 7,
   "metadata": {},
   "outputs": [
    {
     "name": "stdout",
     "output_type": "stream",
     "text": [
      "This is the Parent class\n",
      "This is the Child class\n"
     ]
    }
   ],
   "source": [
    "#types of inheritance\n",
    "# 1)single inheritance\n",
    "class Parent:\n",
    "    def display(self):\n",
    "        print(\"This is the Parent class\")\n",
    "\n",
    "class Child(Parent):\n",
    "    def show(self):\n",
    "        print(\"This is the Child class\")\n",
    "\n",
    "obj = Child()\n",
    "obj.display()  \n",
    "obj.show() \n"
   ]
  },
  {
   "cell_type": "code",
   "execution_count": 8,
   "metadata": {},
   "outputs": [
    {
     "name": "stdout",
     "output_type": "stream",
     "text": [
      "This is Parent1 class\n",
      "This is Parent2 class\n",
      "This is the Child class\n"
     ]
    }
   ],
   "source": [
    "#multiple inheritance\n",
    "class Parent1:\n",
    "    def display1(self):\n",
    "        print(\"This is Parent1 class\")\n",
    "\n",
    "class Parent2:\n",
    "    def display2(self):\n",
    "        print(\"This is Parent2 class\")\n",
    "\n",
    "class Child(Parent1, Parent2):\n",
    "    def show(self):\n",
    "        print(\"This is the Child class\")\n",
    "\n",
    "obj = Child()\n",
    "obj.display1()  \n",
    "obj.display2() \n",
    "obj.show()     \n"
   ]
  },
  {
   "cell_type": "code",
   "execution_count": 9,
   "metadata": {},
   "outputs": [
    {
     "name": "stdout",
     "output_type": "stream",
     "text": [
      "This is the Grandparent class\n",
      "This is the Parent class\n",
      "This is the Child class\n"
     ]
    }
   ],
   "source": [
    "#muiltilevel inheritance\n",
    "class Grandparent:\n",
    "    def display(self):\n",
    "        print(\"This is the Grandparent class\")\n",
    "\n",
    "class Parent(Grandparent):\n",
    "    def show(self):\n",
    "        print(\"This is the Parent class\")\n",
    "\n",
    "class Child(Parent):\n",
    "    def reveal(self):\n",
    "        print(\"This is the Child class\")\n",
    "\n",
    "obj = Child()\n",
    "obj.display() \n",
    "obj.show()   \n",
    "obj.reveal()  \n"
   ]
  },
  {
   "cell_type": "code",
   "execution_count": 10,
   "metadata": {},
   "outputs": [
    {
     "name": "stdout",
     "output_type": "stream",
     "text": [
      "This is the Parent class\n",
      "This is the Child1 class\n",
      "This is the Parent class\n",
      "This is the Child2 class\n"
     ]
    }
   ],
   "source": [
    "#Hierarchical inheritance\n",
    "\n",
    "class Parent:\n",
    "    def display(self):\n",
    "        print(\"This is the Parent class\")\n",
    "\n",
    "class Child1(Parent):\n",
    "    def show1(self):\n",
    "        print(\"This is the Child1 class\")\n",
    "\n",
    "class Child2(Parent):\n",
    "    def show2(self):\n",
    "        print(\"This is the Child2 class\")\n",
    "\n",
    "obj1 = Child1()\n",
    "obj2 = Child2()\n",
    "\n",
    "obj1.display()\n",
    "obj1.show1()   \n",
    "\n",
    "obj2.display() \n",
    "obj2.show2()   \n"
   ]
  },
  {
   "cell_type": "code",
   "execution_count": 11,
   "metadata": {},
   "outputs": [
    {
     "name": "stdout",
     "output_type": "stream",
     "text": [
      "This is the Grandparent class\n",
      "This is Parent1 class\n",
      "This is Parent2 class\n",
      "This is the Child class\n"
     ]
    }
   ],
   "source": [
    "#Hybrid inheritance\n",
    "\n",
    "class Grandparent:\n",
    "    def display(self):\n",
    "        print(\"This is the Grandparent class\")\n",
    "\n",
    "class Parent1(Grandparent):\n",
    "    def show1(self):\n",
    "        print(\"This is Parent1 class\")\n",
    "\n",
    "class Parent2(Grandparent):\n",
    "    def show2(self):\n",
    "        print(\"This is Parent2 class\")\n",
    "\n",
    "class Child(Parent1, Parent2):\n",
    "    def reveal(self):\n",
    "        print(\"This is the Child class\")\n",
    "\n",
    "obj = Child()\n",
    "obj.display() \n",
    "obj.show1()    \n",
    "obj.show2()   \n",
    "obj.reveal()  "
   ]
  },
  {
   "cell_type": "code",
   "execution_count": 2,
   "metadata": {},
   "outputs": [
    {
     "name": "stdout",
     "output_type": "stream",
     "text": [
      "[0, 1, 4, 9, 16, 25, 36, 49, 64, 81]\n"
     ]
    }
   ],
   "source": [
    "a = [i *i for i in range(10)] \n",
    "print(a)"
   ]
  },
  {
   "cell_type": "code",
   "execution_count": 15,
   "metadata": {},
   "outputs": [
    {
     "name": "stdout",
     "output_type": "stream",
     "text": [
      "Alice\n",
      "30\n",
      "Bob\n",
      "35\n",
      "Invalid age\n"
     ]
    }
   ],
   "source": [
    "#encapsulation\n",
    "#putting all your important stuff in safe box\n",
    "#in programming this means keeping all your data together in one place and controlling access to that data to keep it safe and organized\n",
    "\n",
    "class Person:\n",
    "    def __init__(self, name, age):\n",
    "        self.__name = name  # Private variable\n",
    "        self.__age = age    # Private variable\n",
    "\n",
    "    # Getter for name\n",
    "    def get_name(self):\n",
    "        return self.__name\n",
    "\n",
    "    # Setter for name\n",
    "    def set_name(self, name):\n",
    "        self.__name = name\n",
    "\n",
    "    # Getter for age\n",
    "    def get_age(self):\n",
    "        return self.__age\n",
    "\n",
    "    # Setter for age\n",
    "    def set_age(self, age):\n",
    "        if age > 0:\n",
    "            self.__age = age\n",
    "        else:\n",
    "            print(\"Invalid age\")\n",
    "\n",
    "# Creating an instance of the Person class\n",
    "person = Person(\"Alice\", 30)\n",
    "\n",
    "# Accessing private variables through public methods\n",
    "print(person.get_name()) \n",
    "print(person.get_age()) \n",
    "\n",
    "# Modifying private variables through public methods\n",
    "person.set_name(\"Bob\")\n",
    "person.set_age(35)\n",
    "print(person.get_name())\n",
    "print(person.get_age())  \n",
    "person.set_age(-5) \n"
   ]
  },
  {
   "cell_type": "code",
   "execution_count": 16,
   "metadata": {},
   "outputs": [
    {
     "name": "stdout",
     "output_type": "stream",
     "text": [
      "1000\n",
      "1500\n",
      "1300\n",
      "Invalid withdrawal amount\n"
     ]
    }
   ],
   "source": [
    "class BankAccount:\n",
    "    def __init__(self, owner, balance):\n",
    "        self.__owner = owner       # Private variable\n",
    "        self.__balance = balance   # Private variable\n",
    "\n",
    "    # Getter for balance\n",
    "    def get_balance(self):\n",
    "        return self.__balance\n",
    "\n",
    "    # Method to deposit money\n",
    "    def deposit(self, amount):\n",
    "        if amount > 0:\n",
    "            self.__balance += amount\n",
    "        else:\n",
    "            print(\"Invalid deposit amount\")\n",
    "    # Method to withdraw money\n",
    "    def withdraw(self, amount):\n",
    "        if 0 < amount <= self.__balance:\n",
    "            self.__balance -= amount\n",
    "        else:\n",
    "            print(\"Invalid withdrawal amount\")\n",
    "\n",
    "# Creating an instance of the BankAccount class\n",
    "account = BankAccount(\"Alice\", 1000)\n",
    "\n",
    "# Accessing balance through a public method\n",
    "print(account.get_balance()) \n",
    "# Depositing money\n",
    "account.deposit(500)\n",
    "print(account.get_balance()) \n",
    "\n",
    "# Withdrawing money\n",
    "account.withdraw(200)\n",
    "print(account.get_balance())\n",
    "# Attempting to withdraw an invalid amount\n",
    "account.withdraw(2000) \n"
   ]
  },
  {
   "cell_type": "code",
   "execution_count": 17,
   "metadata": {},
   "outputs": [
    {
     "name": "stdout",
     "output_type": "stream",
     "text": [
      "Rectangle Area: 50\n",
      "Rectangle Perimeter: 30\n",
      "Circle Area: 28.26\n",
      "Circle Perimeter: 18.84\n"
     ]
    }
   ],
   "source": [
    "#Abstraction\n",
    "\n",
    "#hiding the complex implementation details of the system and exposing only the necessary and relevant parts of it\n",
    "from abc import ABC, abstractmethod\n",
    "\n",
    "class Shape(ABC):\n",
    "    @abstractmethod\n",
    "    def area(self):\n",
    "        pass\n",
    "\n",
    "    @abstractmethod\n",
    "    def perimeter(self):\n",
    "        pass\n",
    "\n",
    "class Rectangle(Shape):\n",
    "    def __init__(self, width, height):\n",
    "        self.width = width\n",
    "        self.height = height\n",
    "\n",
    "    def area(self):\n",
    "        return self.width * self.height\n",
    "\n",
    "    def perimeter(self):\n",
    "        return 2 * (self.width + self.height)\n",
    "\n",
    "class Circle(Shape):\n",
    "    def __init__(self, radius):\n",
    "        self.radius = radius\n",
    "\n",
    "    def area(self):\n",
    "        return 3.14 * self.radius ** 2\n",
    "\n",
    "    def perimeter(self):\n",
    "        return 2 * 3.14 * self.radius\n",
    "\n",
    "# Creating instances of the concrete classes\n",
    "rectangle = Rectangle(5, 10)\n",
    "circle = Circle(3)\n",
    "\n",
    "print(\"Rectangle Area:\", rectangle.area())          \n",
    "print(\"Rectangle Perimeter:\", rectangle.perimeter()) \n",
    "\n",
    "print(\"Circle Area:\", circle.area())             \n",
    "print(\"Circle Perimeter:\", circle.perimeter())    "
   ]
  },
  {
   "cell_type": "code",
   "execution_count": null,
   "metadata": {},
   "outputs": [],
   "source": [
    "#polymorphism\n",
    "#it is a concept of many forms it allows objects of different types to be treated as if they are objects of a common type\n",
    "# this makes it possible to write flexible and reusable code\n",
    "class Animal:\n",
    "    def make_sound(self):\n",
    "        pass\n",
    "\n",
    "class Dog(Animal):\n",
    "    def make_sound(self):\n",
    "        return \"Woof!\"\n",
    "\n",
    "class Cat(Animal):\n",
    "    def make_sound(self):\n",
    "        return \"Meow!\"\n",
    "\n",
    "# Function that works with any Animal\n",
    "def make_animal_sound(animal):\n",
    "    print(animal.make_sound())\n",
    "\n",
    "# Create instances of Dog and Cat\n",
    "dog = Dog()\n",
    "cat = Cat()\n",
    "\n",
    "# Call the function with different animals\n",
    "make_animal_sound(dog)\n",
    "make_animal_sound(cat)  \n"
   ]
  }
 ],
 "metadata": {
  "kernelspec": {
   "display_name": "Python 3",
   "language": "python",
   "name": "python3"
  },
  "language_info": {
   "codemirror_mode": {
    "name": "ipython",
    "version": 3
   },
   "file_extension": ".py",
   "mimetype": "text/x-python",
   "name": "python",
   "nbconvert_exporter": "python",
   "pygments_lexer": "ipython3",
   "version": "3.10.8"
  }
 },
 "nbformat": 4,
 "nbformat_minor": 2
}
