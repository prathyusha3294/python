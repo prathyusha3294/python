{
 "cells": [
  {
   "cell_type": "code",
   "execution_count": 7,
   "metadata": {},
   "outputs": [
    {
     "name": "stdout",
     "output_type": "stream",
     "text": [
      "name,email,age,phone\n",
      "raja,raja@gmail.com,24,9988774455\n",
      "rani,rani@gmail.com,22,9977446622\n",
      "raghu,raghu@gmail.com,26,945695451\n",
      "\n"
     ]
    }
   ],
   "source": [
    "import csv\n",
    "fp=open(r'D:\\python basic questions\\sales.csv','r')\n",
    "res=fp.read()\n",
    "print(res)\n",
    "fp.close()"
   ]
  },
  {
   "cell_type": "code",
   "execution_count": 8,
   "metadata": {},
   "outputs": [
    {
     "name": "stdout",
     "output_type": "stream",
     "text": [
      "name  email  age  age  phone\n",
      "\n",
      "raja  raja@gmail.com  24  24  9988774455\n",
      "\n",
      "rani  rani@gmail.com  22  22  9977446622\n",
      "\n",
      "raghu  raghu@gmail.com  26  26  945695451\n",
      "\n"
     ]
    }
   ],
   "source": [
    "with open(r'D:\\python basic questions\\sales.csv','r') as fp:\n",
    "    res=fp.readlines()\n",
    "    for i in res:\n",
    "        li=i.split(',')\n",
    "        print(li[0],li[1],li[2],li[-2],li[-1],sep=\"  \")"
   ]
  },
  {
   "cell_type": "code",
   "execution_count": 9,
   "metadata": {},
   "outputs": [
    {
     "name": "stdout",
     "output_type": "stream",
     "text": [
      "['name', 'email', 'age', 'phone']\n",
      "['raja', 'raja@gmail.com', '24', '9988774455']\n",
      "['rani', 'rani@gmail.com', '22', '9977446622']\n",
      "['raghu', 'raghu@gmail.com', '26', '945695451']\n"
     ]
    }
   ],
   "source": [
    "import csv\n",
    "with open(r'D:\\python basic questions\\sales.csv', 'r') as fp:\n",
    "    fr=csv.reader(fp)\n",
    "    for i in fr:\n",
    "        print(i)\n",
    "\n"
   ]
  },
  {
   "cell_type": "code",
   "execution_count": 11,
   "metadata": {},
   "outputs": [],
   "source": [
    "# wap to extract the specific row details from given csv file.\n",
    "import csv\n",
    "with open(r'D:\\python basic questions\\sales.csv', 'r') as fp:\n",
    "    fr = csv.reader(fp)\n",
    "    line_row=1\n",
    "    for i in fr:\n",
    "        if line_row==5:\n",
    "            print(i)\n",
    "        line_row+=1\n"
   ]
  },
  {
   "cell_type": "code",
   "execution_count": 12,
   "metadata": {},
   "outputs": [],
   "source": [
    "# wap to extract the specific person details from given person name from the csv file.\n",
    "import csv\n",
    "with open(r'D:\\python basic questions\\sales.csv', 'r') as fp:\n",
    "    fr = csv.reader(fp)\n",
    "    for i in fr:\n",
    "        if i[0].upper()=='kumar'.upper():\n",
    "            print(i)\n"
   ]
  },
  {
   "cell_type": "code",
   "execution_count": 13,
   "metadata": {},
   "outputs": [
    {
     "name": "stdout",
     "output_type": "stream",
     "text": [
      "0\n"
     ]
    }
   ],
   "source": [
    "#wap to display the total purchase of specific person by using person name \n",
    "import csv\n",
    "with open(r'D:\\python basic questions\\sales.csv', 'r') as fp:\n",
    "    fr = csv.reader(fp)\n",
    "    sum1=0\n",
    "    for i in fr:\n",
    "        if i[0].upper() == 'kumar'.upper():\n",
    "            sum1+=int(i[-1])\n",
    "    print(sum1)\n"
   ]
  },
  {
   "cell_type": "code",
   "execution_count": 14,
   "metadata": {},
   "outputs": [],
   "source": [
    "# wap to display the purchase date's for specific person by using person name.\n",
    "import csv\n",
    "fp=open(r'D:\\python basic questions\\sales.csv', 'r')\n",
    "fr = csv.reader(fp)\n",
    "sum1 = 0\n",
    "for i in fr:\n",
    "      if i[0].upper() == 'kumar'.upper():\n",
    "          print((i[2]))\n"
   ]
  },
  {
   "cell_type": "code",
   "execution_count": 15,
   "metadata": {},
   "outputs": [
    {
     "name": "stdout",
     "output_type": "stream",
     "text": [
      "total price is  0\n"
     ]
    }
   ],
   "source": [
    "# wap to display the purchase date's and items with total purchase price of specific person by using person name.\n",
    "fp = open(r'D:\\python basic questions\\sales.csv', 'r')\n",
    "fr = csv.reader(fp)\n",
    "name=input(\"enter the name:\")\n",
    "sum1=0\n",
    "for i in fr:\n",
    "    if i[0].upper()==name.upper():\n",
    "        print(i[2],i[3],i[-1])\n",
    "        sum1+=int(i[-1])\n",
    "print(\"total price is \",sum1)\n",
    "fp.close()"
   ]
  },
  {
   "cell_type": "code",
   "execution_count": 16,
   "metadata": {},
   "outputs": [
    {
     "name": "stdout",
     "output_type": "stream",
     "text": [
      "['name', 'email', 'age', 'phone\\n']\n",
      "['raja', 'raja@gmail.com', '24', '9988774455\\n']\n",
      "['rani', 'rani@gmail.com', '22', '9977446622\\n']\n",
      "['raghu', 'raghu@gmail.com', '26', '945695451\\n']\n"
     ]
    }
   ],
   "source": [
    "fp = open(r'D:\\python basic questions\\sales.csv', 'r')\n",
    "res = fp.readlines()\n",
    "for i in res:\n",
    "    print(i.split(','))\n"
   ]
  },
  {
   "cell_type": "code",
   "execution_count": 17,
   "metadata": {},
   "outputs": [
    {
     "name": "stdout",
     "output_type": "stream",
     "text": [
      "<_csv.reader object at 0x0000024FA2C8C7C0>\n",
      "['name', 'email', 'age', 'phone']\n",
      "['raja', 'raja@gmail.com', '24', '9988774455']\n",
      "['rani', 'rani@gmail.com', '22', '9977446622']\n",
      "['raghu', 'raghu@gmail.com', '26', '945695451']\n"
     ]
    }
   ],
   "source": [
    "import csv\n",
    "fp=open(r'D:\\python basic questions\\sales.csv','r')\n",
    "res=csv.reader(fp)\n",
    "print(res)\n",
    "for i in res:\n",
    "    print(i)"
   ]
  },
  {
   "cell_type": "code",
   "execution_count": 18,
   "metadata": {},
   "outputs": [
    {
     "name": "stdout",
     "output_type": "stream",
     "text": [
      "<_csv.writer object at 0x0000024FA2C8C640>\n"
     ]
    }
   ],
   "source": [
    "import csv\n",
    "li = [['Sunil', 'male', '28', 'Sunil@gmail.com'],\n",
    "      ['Naga', '18', '96012020', 'Naga@gmail.com'],\n",
    "      ['Mahesh', '16', '86012020', 'Mahesh@gmail.com'],\n",
    "      ['Ganesh', '26', '76012020', 'Ganesh@gmail.com'],\n",
    "      ['Kumar', '30', '96012020', 'Kumar@gmail.com']]\n",
    "\n",
    "\n",
    "fp = open(r'D:\\python basic questions\\sales.csv', 'w', newline=\"\")\n",
    "write=csv.writer(fp)\n",
    "print(write)\n",
    "write.writerow(['name','age','phone','email'])\n",
    "# for i in li:\n",
    "#     write.writerow(i)\n",
    "write.writerows(li)\n",
    "fp.close()\n",
    "\n",
    "\n",
    "\n"
   ]
  },
  {
   "cell_type": "code",
   "execution_count": 19,
   "metadata": {},
   "outputs": [
    {
     "name": "stdout",
     "output_type": "stream",
     "text": [
      "{'name': 'Sunil', 'age': 'male', 'phone': '28', 'email': 'Sunil@gmail.com'}\n",
      "{'name': 'Naga', 'age': '18', 'phone': '96012020', 'email': 'Naga@gmail.com'}\n",
      "{'name': 'Mahesh', 'age': '16', 'phone': '86012020', 'email': 'Mahesh@gmail.com'}\n",
      "{'name': 'Ganesh', 'age': '26', 'phone': '76012020', 'email': 'Ganesh@gmail.com'}\n",
      "{'name': 'Kumar', 'age': '30', 'phone': '96012020', 'email': 'Kumar@gmail.com'}\n"
     ]
    }
   ],
   "source": [
    "import csv\n",
    "fp = open(r'D:\\python basic questions\\sales.csv', 'r')\n",
    "res=csv.DictReader(fp)\n",
    "for i in res:\n",
    "    print(i)"
   ]
  },
  {
   "cell_type": "code",
   "execution_count": 20,
   "metadata": {},
   "outputs": [],
   "source": [
    "li=[{'name': 'Sunilreddy', 'age': '28', 'phone': '7601222020', 'email': 'Sunil@gmail.com'},\n",
    "{'name': 'Nagaraja', 'age': '18', 'phone': '96012020', 'email': 'Naga@gmail.com'},\n",
    "{'name': 'Mahesh rao', 'age': '16', 'phone': '86012020', 'email': 'Mahesh@gmail.com'},\n",
    "{'name': 'Ganesh kumar', 'age': '26', 'phone': '76012020', 'email': 'Ganesh@gmail.com'},\n",
    "{'name': 'Kumari', 'age': '30', 'phone': '96012020', 'email': 'Kumar@gmail.com'}]\n",
    "\n",
    "import csv\n",
    "fp = open(r'D:\\python basic questions\\sales.csv','w',newline=\"\")\n",
    "write=csv.DictWriter(fp,['name','age','email','phone'])\n",
    "write.writeheader()\n",
    "# write.writerow({'name': 'Sunilreddy',\n",
    "#                'phone': '7601222020', 'email': 'Sunil@gmail.com', 'age': '28'})\n",
    "write.writerows(li)\n",
    "fp.close()\n"
   ]
  },
  {
   "cell_type": "code",
   "execution_count": 21,
   "metadata": {},
   "outputs": [
    {
     "name": "stdout",
     "output_type": "stream",
     "text": [
      "[{'name': '', 'age': '', 'phone': '', 'email': ''}, {'name': '', 'age': '', 'phone': '', 'email': ''}, {'name': '', 'age': '', 'phone': '', 'email': ''}]\n"
     ]
    }
   ],
   "source": [
    "\n",
    "def collect():\n",
    "    name=input(\"enter the name:\")\n",
    "    age=input(\"enter the age\")\n",
    "    phone = input(\"enter the phone\")\n",
    "    email = input(\"enter the email\")\n",
    "    return {'name':name,'age':age,'phone':phone,'email':email}\n",
    "\n",
    "l=[]\n",
    "start=0\n",
    "while start<3:\n",
    "    \n",
    "    l+=[collect()]\n",
    "    start+=1\n",
    "print(l)\n"
   ]
  },
  {
   "cell_type": "code",
   "execution_count": 22,
   "metadata": {},
   "outputs": [
    {
     "name": "stdout",
     "output_type": "stream",
     "text": [
      "['name', 'email', 'age', 'phone']\n",
      "['raja', 'raja@gmail.com', '24', '9988774455']\n",
      "['rani', 'rani@gmail.com', '22', '9977446622']\n",
      "['raghu', 'raghu@gmail.com', '26', '945695451']\n"
     ]
    }
   ],
   "source": [
    "li=[{'name': 'raja', 'age': '24', 'phone': '9988774455', 'email': 'raja@gmail.com'}, {'name': 'rani', 'age': '22', 'phone': '9977446622', 'email': 'rani@gmail.com'}, {'name': 'raghu', 'age': '26', 'phone': '945695451', 'email': 'raghu@gmail.com'}]\n",
    "\n",
    "import csv\n",
    "fp=open(r'D:\\python basic questions\\sales.csv','w+',newline=\"\")\n",
    "write=csv.DictWriter(fp,['name','email','age','phone'])\n",
    "write.writeheader()\n",
    "write.writerows(li)\n",
    "fp.seek(0)\n",
    "res=csv.reader(fp)\n",
    "for i in res:\n",
    "    print(i)\n",
    "fp.close()\n",
    "\n"
   ]
  },
  {
   "cell_type": "code",
   "execution_count": null,
   "metadata": {},
   "outputs": [],
   "source": [
    "import csv\n",
    "def laptopstore():\n",
    "    brand = input(\"enter the brand\")\n",
    "    model = input(\"enter the model\")\n",
    "    ram=input(\"enter the ram\")\n",
    "    rom=input(\"enter the rom\")\n",
    "    proc = input(\"enter the proc\")\n",
    "    graphic = input(\"enter the graphic\")\n",
    "    price = input(\"enter the price\")\n",
    "    return {'BRAND': brand, 'MODEL': model, 'RAM': ram, 'ROM': rom, 'PROCESSOR': proc, 'GRAPHIC': graphic, 'PRICE': price}\n",
    "\n",
    "\n",
    "def create_csv(filename='file'):\n",
    "    import csv\n",
    "    fp = open(\n",
    "        r'C:\\Users\\QSP\\Desktop\\python_programs\\csv_file_handle\\%s.csv' %(filename), 'a', newline='')\n",
    "    write = csv.DictWriter(\n",
    "        fp, ['BRAND', 'MODEL', 'RAM', 'ROM', 'PROCESSOR', 'GRAPHIC', 'PRICE'])\n",
    "    write.writeheader()\n",
    "    write.writerow(laptopstore())\n",
    "    fp.close()\n",
    "# create_csv(\"pc\")\n",
    "\n",
    "def insert_record(filename=\"\"):\n",
    "    if filename==\"\":\n",
    "        return \"invalid filename\"\n",
    "    import csv\n",
    "    fp=open(r'C:\\Users\\QSP\\Desktop\\python_programs\\csv_file_handle\\%s.csv'%(filename),'a',newline='')\n",
    "    write=csv.DictWriter(fp,['BRAND','MODEL','RAM','ROM','PROCESSOR','GRAPHIC','PRICE'])\n",
    "    write.writerow(laptopstore())\n",
    "    fp.close()\n",
    "# insert_record('pc')\n",
    "\n",
    "def read_allrecords(filename=\"\"):\n",
    "    import csv\n",
    "    if filename == \"\":\n",
    "        return \"invalid filename\"\n",
    "    fp=open(r'C:\\Users\\QSP\\Desktop\\python_programs\\csv_file_handle\\%s.csv'%(filename),'r',newline='')\n",
    "    res=csv.DictReader(fp)\n",
    "    print('-'*93)\n",
    "    print('|', 'BRAND'.center(10), '|', 'MODEL'.center(10), '|', 'RAM'.center(10), '|',\n",
    "          'ROM'.center(10), '|', 'PROCESSOR'.center(10), '|', 'GRAPHIC'.center(10), '|', 'PRICE'.center(10),'|', )\n",
    "    print('-'*93)\n",
    "    for i in res:\n",
    "        print('|', i['BRAND'].center(10,), '|', i['MODEL'].center(10), '|', i['RAM'].center(10), '|',\n",
    "              i['ROM'].center(10), '|', i['PROCESSOR'].center(10), '|', i['GRAPHIC'].center(10), '|', i['PRICE'].center(10), '|', )\n",
    "    fp.close()\n",
    "    print('-'*93)\n",
    "# read_allrecords('pc')\n",
    "\n",
    "def read_specific_field(filename=\"\",fieldname=\"\",value=\"\"):\n",
    "    import csv\n",
    "    if filename == \"\":\n",
    "        return \"invalid filename\"\n",
    "    fp = open(r'C:\\Users\\QSP\\Desktop\\python_programs\\csv_file_handle\\%s.csv' % (\n",
    "        filename), 'r', newline='')\n",
    "    res = csv.DictReader(fp)\n",
    "    print('-'*93)\n",
    "    print('|', 'BRAND'.center(10), '|', 'MODEL'.center(10), '|', 'RAM'.center(10), '|',\n",
    "          'ROM'.center(10), '|', 'PROCESSOR'.center(10), '|', 'GRAPHIC'.center(10), '|', 'PRICE'.center(10), '|', )\n",
    "    print('-'*93)\n",
    "    for i in res:\n",
    "        if i[fieldname.upper()].upper()==value.upper():\n",
    "            print('|', i['BRAND'].center(10,), '|', i['MODEL'].center(10), '|', i['RAM'].center(10), '|',\n",
    "              i['ROM'].center(10), '|', i['PROCESSOR'].center(10), '|', i['GRAPHIC'].center(10), '|', i['PRICE'].center(10), '|', )\n",
    "    fp.close()\n",
    "    print('-'*93)\n",
    "# read_specific_field('pc','processor','i5')\n",
    "\n",
    "def update_specific_field(filename=\"\", recordid='', fieldname=\"\", oldvalue=\"\",newvalue=''):\n",
    "    import csv\n",
    "    if filename == \"\":\n",
    "        return \"invalid filename\"\n",
    "    fp = open(r'C:\\Users\\QSP\\Desktop\\python_programs\\csv_file_handle\\%s.csv' % (\n",
    "        filename), 'r', newline='')\n",
    "    res = csv.DictReader(fp)\n",
    "    for i in res:\n",
    "        if i['MODEL'].upper()==recordid.upper():\n",
    "            print('|', 'BRAND'.center(10), '|', 'MODEL'.center(10), '|', 'RAM'.center(10), '|',\n",
    "                  'ROM'.center(10), '|', 'PROCESSOR'.center(10), '|', 'GRAPHIC'.center(10), '|', 'PRICE'.center(10), '|', )\n",
    "            print('-'*93)\n",
    "            print('|', i['BRAND'].center(10,), '|', i['MODEL'].center(10), '|', i['RAM'].center(10), '|',\n",
    "                  i['ROM'].center(10), '|', i['PROCESSOR'].center(10), '|', i['GRAPHIC'].center(10), '|', i['PRICE'].center(10),\n",
    "                    '|', '---->old content')\n",
    "            print('-'*93)\n",
    "            if i[fieldname.upper()].upper() == oldvalue.upper():\n",
    "                i[fieldname.upper()] = newvalue.upper()\n",
    "                print('|', i['BRAND'].center(10,), '|', i['MODEL'].center(10), '|', i['RAM'].center(10), '|',\n",
    "                      i['ROM'].center(10), '|', i['PROCESSOR'].center(10), '|', i['GRAPHIC'].center(10), '|', i['PRICE'].center(10), \n",
    "                      '|', '---->new content')\n",
    "                return \n",
    "    fp.close()\n",
    "update_specific_field('pc', 'mac12','price','150000','200000')\n",
    "\n",
    "# def delete_specific_record(filename=\"\",value=\"\"):\n",
    "#     import csv\n",
    "#     if filename == \"\":\n",
    "#         return \"invalid filename\"\n",
    "#     fp = open(r'C:\\Users\\QSP\\Desktop\\python_programs\\csv_file_handle\\%s.csv' % (\n",
    "#         filename), 'r', newline='')\n",
    "#     res = csv.DictReader(fp)\n",
    "#     print\n",
    "\n",
    "\n",
    "\n",
    "\n"
   ]
  }
 ],
 "metadata": {
  "kernelspec": {
   "display_name": "Python 3",
   "language": "python",
   "name": "python3"
  },
  "language_info": {
   "codemirror_mode": {
    "name": "ipython",
    "version": 3
   },
   "file_extension": ".py",
   "mimetype": "text/x-python",
   "name": "python",
   "nbconvert_exporter": "python",
   "pygments_lexer": "ipython3",
   "version": "3.10.8"
  },
  "orig_nbformat": 4
 },
 "nbformat": 4,
 "nbformat_minor": 2
}
