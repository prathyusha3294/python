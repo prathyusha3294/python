{
 "cells": [
  {
   "cell_type": "code",
   "execution_count": 3,
   "metadata": {},
   "outputs": [
    {
     "name": "stdout",
     "output_type": "stream",
     "text": [
      "not a strong number\n"
     ]
    }
   ],
   "source": [
    "#WAP To Check if a Number is a Perfect Number or not.\n",
    "# 6 is a perfect number because its divisors (excluding itself) are 1, 2, and 3. The sum of these divisors is \n",
    "# 1+2+3=6   1+2+3=6, which is equal to the number itself.\n",
    "# 28 is another example. Its proper divisors are 1, 2, 4, 7, and 14. The sum of these divisors is \n",
    "# 1+2+4+7+14=28 1+2+4+7+14=28.\n",
    "\n",
    "number = 29\n",
    "pn = 0\n",
    "for i in range(1,number):\n",
    "    if number%i == 0:\n",
    "        pn+=i\n",
    "if pn == number:\n",
    "    print(\"strong number\")\n",
    "else:\n",
    "    print(\"not a strong number\")\n"
   ]
  },
  {
   "cell_type": "markdown",
   "metadata": {},
   "source": [
    "<!-- WAP which accepts a string from the user and prints the characters of the given string -->\n",
    "\n",
    "a= string\n",
    "for i in a:\n",
    "    print(i)"
   ]
  },
  {
   "cell_type": "code",
   "execution_count": 1,
   "metadata": {},
   "outputs": [
    {
     "name": "stdout",
     "output_type": "stream",
     "text": [
      "s\n",
      "t\n",
      "r\n",
      "i\n",
      "n\n",
      "g\n"
     ]
    }
   ],
   "source": [
    "#  WAP which accepts a string from the user and prints the characters of the given string\n",
    "\n",
    "a= 'string'\n",
    "for i in a:\n",
    "    print(i)"
   ]
  },
  {
   "cell_type": "code",
   "execution_count": 5,
   "metadata": {},
   "outputs": [
    {
     "name": "stdout",
     "output_type": "stream",
     "text": [
      "string"
     ]
    }
   ],
   "source": [
    "# WAP which accepts a string from the user and prints it in reverse order of the string.\n",
    "a= 'string'\n",
    "for i in a:\n",
    "    print(i[::-1],end = \"\")"
   ]
  },
  {
   "cell_type": "code",
   "execution_count": null,
   "metadata": {},
   "outputs": [],
   "source": [
    "# WAP which accepts a string from the console and prints the characters that have even indexes"
   ]
  },
  {
   "cell_type": "code",
   "execution_count": null,
   "metadata": {},
   "outputs": [],
   "source": [
    "# WAP which accepts a string from the console and prints the characters that have odd indexes."
   ]
  },
  {
   "cell_type": "code",
   "execution_count": null,
   "metadata": {},
   "outputs": [],
   "source": [
    "# WAP to all Occurrences characters should be replaced to $ in a given String"
   ]
  },
  {
   "cell_type": "code",
   "execution_count": null,
   "metadata": {},
   "outputs": [],
   "source": [
    "# Write a program that accepts a sequence of lines as input and prints the lines after making it in the sentence should be the Title case."
   ]
  },
  {
   "cell_type": "code",
   "execution_count": 1,
   "metadata": {},
   "outputs": [
    {
     "name": "stdout",
     "output_type": "stream",
     "text": [
      "1\n",
      "2\n",
      "3\n",
      "4\n",
      "Loop ended.\n"
     ]
    }
   ],
   "source": [
    "#break\n",
    "\n",
    "for number in range(1, 11):\n",
    "    if number == 5:\n",
    "        break  # Exit the loop when number is 5\n",
    "    print(number)\n",
    "\n",
    "print(\"Loop ended.\")\n"
   ]
  },
  {
   "cell_type": "code",
   "execution_count": 1,
   "metadata": {},
   "outputs": [
    {
     "name": "stdout",
     "output_type": "stream",
     "text": [
      "1\n",
      "2\n",
      "3\n",
      "4\n",
      "6\n",
      "7\n",
      "8\n",
      "9\n",
      "10\n",
      "Loop ended.\n"
     ]
    }
   ],
   "source": [
    "#continue\n",
    "for number in range(1, 11):\n",
    "    if number == 5:\n",
    "        continue  # Skip the rest of the loop when number is 5\n",
    "    print(number)\n",
    "\n",
    "print(\"Loop ended.\")\n"
   ]
  },
  {
   "cell_type": "code",
   "execution_count": 2,
   "metadata": {},
   "outputs": [
    {
     "name": "stdout",
     "output_type": "stream",
     "text": [
      "1\n",
      "2\n",
      "3\n",
      "4\n",
      "5\n",
      "6\n",
      "7\n",
      "8\n",
      "9\n",
      "10\n",
      "Loop ended.\n"
     ]
    }
   ],
   "source": [
    "#pass\n",
    "for number in range(1, 11):\n",
    "    if number == 5:\n",
    "        pass  # Do nothing when number is 5\n",
    "    print(number)\n",
    "\n",
    "print(\"Loop ended.\")\n"
   ]
  },
  {
   "cell_type": "code",
   "execution_count": 2,
   "metadata": {},
   "outputs": [
    {
     "name": "stdout",
     "output_type": "stream",
     "text": [
      "12\n"
     ]
    }
   ],
   "source": []
  },
  {
   "cell_type": "code",
   "execution_count": 8,
   "metadata": {},
   "outputs": [
    {
     "name": "stdout",
     "output_type": "stream",
     "text": [
      "15\n"
     ]
    }
   ],
   "source": [
    "\n",
    "#WAP to print the sum of the arrays\n",
    "arr = [1,2,3,4,5]\n",
    "sum = 0\n",
    "for i in arr:\n",
    "    sum+=i\n",
    "print(sum)"
   ]
  },
  {
   "cell_type": "code",
   "execution_count": 22,
   "metadata": {},
   "outputs": [
    {
     "name": "stdout",
     "output_type": "stream",
     "text": [
      "60\n"
     ]
    }
   ],
   "source": [
    "#WAP to print the first three numbers from an array\n",
    "arr = [10,20,30]\n",
    "sum = 0 \n",
    "for i in range(3):\n",
    "    sum+=arr[i]\n",
    "print(sum)"
   ]
  },
  {
   "cell_type": "code",
   "execution_count": 20,
   "metadata": {},
   "outputs": [
    {
     "name": "stdout",
     "output_type": "stream",
     "text": [
      "0\n",
      "1\n",
      "1\n",
      "2\n",
      "3\n",
      "5\n",
      "8\n",
      "13\n",
      "21\n",
      "34\n",
      "55\n",
      "89\n"
     ]
    }
   ],
   "source": [
    "#Write a program to print the Fibonacci sequence up to n terms.\n",
    "# fibonnaci series is the sum of the two preceding ones, usually starting with 0 and 1. \n",
    "# The sequence typically goes: 0, 1, 1, 2, 3, 5, 8, 13, 21, and so on.\n",
    "\n",
    "a = 0\n",
    "b = 1\n",
    "print(a)\n",
    "print(b)\n",
    "\n",
    "for i in range(10):\n",
    "    c = a+b\n",
    "    print(c)\n",
    "    a = b\n",
    "    b = c"
   ]
  },
  {
   "cell_type": "code",
   "execution_count": 7,
   "metadata": {},
   "outputs": [
    {
     "name": "stdout",
     "output_type": "stream",
     "text": [
      "12321\n",
      "12321\n"
     ]
    }
   ],
   "source": [
    "#palindrome:level,12321\n",
    "\n",
    "a = \"12321\"\n",
    "print(a[::-1])\n",
    "\n",
    "b = \"\"\n",
    "for i in a:\n",
    "    b+=i\n",
    "print(b)"
   ]
  },
  {
   "cell_type": "code",
   "execution_count": 11,
   "metadata": {},
   "outputs": [
    {
     "name": "stdout",
     "output_type": "stream",
     "text": [
      "24\n"
     ]
    }
   ],
   "source": [
    "#factorial\n",
    "\n",
    "# 5! = 120\n",
    "\n",
    "result = 1\n",
    "n=4\n",
    "for i in range(1,n+1):\n",
    "    result *= i\n",
    "print(result)"
   ]
  },
  {
   "cell_type": "code",
   "execution_count": 5,
   "metadata": {},
   "outputs": [
    {
     "name": "stdout",
     "output_type": "stream",
     "text": [
      "not a prime number\n"
     ]
    }
   ],
   "source": [
    "#prime number\n",
    "\n",
    "integer = 12\n",
    "factor = 0\n",
    "for i in range(2,integer):\n",
    "    if (integer%i==0):\n",
    "        factor = factor+1  \n",
    "if factor == 0:\n",
    "    print(\"prime number\")\n",
    "else:\n",
    "    print(\"not a prime number\")\n"
   ]
  },
  {
   "cell_type": "code",
   "execution_count": 10,
   "metadata": {},
   "outputs": [
    {
     "name": "stdout",
     "output_type": "stream",
     "text": [
      "210\n",
      "210\n",
      "210\n"
     ]
    }
   ],
   "source": [
    "a = \"\"  #in a value i have 210\n",
    "for i in range(0,3):\n",
    "    a = str(i) + a \n",
    "for i in range(3): #again loop was running three times\n",
    "    print(a)\n"
   ]
  },
  {
   "cell_type": "code",
   "execution_count": 11,
   "metadata": {},
   "outputs": [
    {
     "name": "stdout",
     "output_type": "stream",
     "text": [
      "teliov\n"
     ]
    }
   ],
   "source": [
    "color = input()\n",
    "length = len(color)\n",
    "shuffle = \"\"  \n",
    "for i in range(length):\n",
    "    index = int(input())\n",
    "    shuffle = color[index] + shuffle\n",
    "print(shuffle)"
   ]
  },
  {
   "cell_type": "code",
   "execution_count": 20,
   "metadata": {},
   "outputs": [
    {
     "name": "stdout",
     "output_type": "stream",
     "text": [
      "A\n",
      "Ap\n",
      "App\n",
      "App\n",
      "App\n",
      "App\n"
     ]
    }
   ],
   "source": [
    "name = \"App\"   \n",
    "lenght = len(name)\n",
    "for i in range(1,length+1):\n",
    "    print(name[:i])"
   ]
  },
  {
   "cell_type": "code",
   "execution_count": 26,
   "metadata": {},
   "outputs": [
    {
     "name": "stdout",
     "output_type": "stream",
     "text": [
      "black\n"
     ]
    }
   ],
   "source": [
    "season = \"ckbla\"\n",
    "length = len(season)\n",
    "shuffle = \"\"\n",
    "\n",
    "for i in range(length):\n",
    "    index = int(input())\n",
    "    shuffle = shuffle+season[index]\n",
    "print(shuffle)\n",
    "    "
   ]
  },
  {
   "cell_type": "code",
   "execution_count": 25,
   "metadata": {},
   "outputs": [
    {
     "name": "stdout",
     "output_type": "stream",
     "text": [
      "A\n",
      "Ap\n",
      "App\n",
      "App\n",
      "App\n",
      "App\n"
     ]
    }
   ],
   "source": [
    "names = \"App\"   \n",
    "lenght = len(names)\n",
    "for index in range(1,length+1):\n",
    "    print(names[:index])"
   ]
  },
  {
   "cell_type": "code",
   "execution_count": 28,
   "metadata": {},
   "outputs": [
    {
     "name": "stdout",
     "output_type": "stream",
     "text": [
      "0\n",
      "2\n",
      "end\n"
     ]
    }
   ],
   "source": [
    "for i in range(3):\n",
    "    if i ==1:\n",
    "        continue\n",
    "    print(i)\n",
    "print(\"end\")"
   ]
  },
  {
   "cell_type": "code",
   "execution_count": 32,
   "metadata": {},
   "outputs": [
    {
     "name": "stdout",
     "output_type": "stream",
     "text": [
      "20\n"
     ]
    }
   ],
   "source": [
    "c =0 \n",
    "for i in range(1,9):\n",
    "    if (i%2 == 1):\n",
    "        continue\n",
    "    c = c+i\n",
    "print(c)"
   ]
  },
  {
   "cell_type": "code",
   "execution_count": 34,
   "metadata": {},
   "outputs": [],
   "source": [
    "for i in range(3):\n",
    "    if i == 0:\n",
    "        break\n",
    "    print(i)"
   ]
  },
  {
   "cell_type": "code",
   "execution_count": 38,
   "metadata": {},
   "outputs": [
    {
     "name": "stdout",
     "output_type": "stream",
     "text": [
      "3\n"
     ]
    }
   ],
   "source": [
    "c = 0\n",
    "for i in range(8):\n",
    "    if i>=3:\n",
    "        break\n",
    "    c = c+i\n",
    "print(c)\n",
    "    "
   ]
  },
  {
   "cell_type": "code",
   "execution_count": 39,
   "metadata": {},
   "outputs": [
    {
     "name": "stdout",
     "output_type": "stream",
     "text": [
      "good morning!\n"
     ]
    }
   ],
   "source": [
    "number = 1\n",
    "while number>4:\n",
    "    number = number * 2\n",
    "    break\n",
    "    print(number)\n",
    "print(\"good morning!\")\n"
   ]
  },
  {
   "cell_type": "code",
   "execution_count": 40,
   "metadata": {},
   "outputs": [
    {
     "name": "stdout",
     "output_type": "stream",
     "text": [
      "8\n"
     ]
    }
   ],
   "source": [
    "count = 14\n",
    "for i in range(14):\n",
    "    count = count - i   \n",
    "    if i == 3:\n",
    "        break\n",
    "print(count)"
   ]
  },
  {
   "cell_type": "code",
   "execution_count": 41,
   "metadata": {},
   "outputs": [
    {
     "name": "stdout",
     "output_type": "stream",
     "text": [
      "mi\n"
     ]
    }
   ],
   "source": [
    "for count in range(0):\n",
    "    continue\n",
    "    print(count)\n",
    "print(\"mi\")"
   ]
  },
  {
   "cell_type": "code",
   "execution_count": 44,
   "metadata": {},
   "outputs": [
    {
     "name": "stdout",
     "output_type": "stream",
     "text": [
      "7\n"
     ]
    }
   ],
   "source": [
    "c = 1\n",
    "for i in range(2,8):\n",
    "    if i%2 == 0:\n",
    "        pass\n",
    "    c = c+1\n",
    "print(c)"
   ]
  },
  {
   "cell_type": "code",
   "execution_count": 45,
   "metadata": {},
   "outputs": [
    {
     "name": "stdout",
     "output_type": "stream",
     "text": [
      "10\n"
     ]
    }
   ],
   "source": [
    "result = 1\n",
    "for i in range(5):\n",
    "    for j in range(4,6):\n",
    "        if i<j:\n",
    "            result+=1\n",
    "print(result)"
   ]
  },
  {
   "cell_type": "code",
   "execution_count": 47,
   "metadata": {},
   "outputs": [
    {
     "name": "stdout",
     "output_type": "stream",
     "text": [
      "12\n",
      "9\n"
     ]
    }
   ],
   "source": [
    "count1 = 0\n",
    "count2 = 14\n",
    "\n",
    "for i in range(4,6):\n",
    "    for j in range(i):\n",
    "        count1 = count1+1\n",
    "    count2 = count2 - 1\n",
    "print(count2)\n",
    "print(count1)"
   ]
  },
  {
   "cell_type": "code",
   "execution_count": 48,
   "metadata": {},
   "outputs": [
    {
     "name": "stdout",
     "output_type": "stream",
     "text": [
      "0\n"
     ]
    }
   ],
   "source": [
    "c = 0\n",
    "for i in range(1):\n",
    "    for j in range(i):\n",
    "        c = c+1\n",
    "print(c)"
   ]
  },
  {
   "cell_type": "code",
   "execution_count": 50,
   "metadata": {},
   "outputs": [
    {
     "name": "stdout",
     "output_type": "stream",
     "text": [
      "0\n"
     ]
    }
   ],
   "source": [
    "c = 0\n",
    "for i in range(5,6):\n",
    "    for j in range(5,5):\n",
    "        c = c + (i+j)\n",
    "print(c)"
   ]
  },
  {
   "cell_type": "code",
   "execution_count": 51,
   "metadata": {},
   "outputs": [
    {
     "name": "stdout",
     "output_type": "stream",
     "text": [
      "3\n"
     ]
    }
   ],
   "source": [
    "result = 1\n",
    "for i in range(5,7):\n",
    "    for j in range(5,7):\n",
    "        if i%j != 0:\n",
    "            result+=1\n",
    "print(result)"
   ]
  },
  {
   "cell_type": "code",
   "execution_count": 2,
   "metadata": {},
   "outputs": [],
   "source": [
    "for i in range(0):\n",
    "    for j in range(1):\n",
    "        print(j)\n",
    "    print(i)"
   ]
  },
  {
   "cell_type": "code",
   "execution_count": 7,
   "metadata": {},
   "outputs": [
    {
     "name": "stdout",
     "output_type": "stream",
     "text": [
      "*\n",
      "**\n"
     ]
    }
   ],
   "source": [
    "n = 2\n",
    "for i in range(1,3):\n",
    "    k = n -1\n",
    "    while (k>=0):\n",
    "        spaces = \" \" * k\n",
    "        stars = \"*\" * (i-1) + \"*\"\n",
    "        k = k-1\n",
    "    print(spaces+stars)"
   ]
  },
  {
   "cell_type": "code",
   "execution_count": 9,
   "metadata": {},
   "outputs": [
    {
     "name": "stdout",
     "output_type": "stream",
     "text": [
      "Hello\n",
      "Hello\n"
     ]
    }
   ],
   "source": [
    "for i in range(1,3):\n",
    "    for i in range(3,4):\n",
    "        print(\"Hello\")"
   ]
  },
  {
   "cell_type": "code",
   "execution_count": 10,
   "metadata": {},
   "outputs": [
    {
     "name": "stdout",
     "output_type": "stream",
     "text": [
      "4\n"
     ]
    }
   ],
   "source": [
    "i = 0\n",
    "count = 1\n",
    "while (i<3):\n",
    "    j = 2\n",
    "    while (j<3):\n",
    "        if (i*j < 6):\n",
    "            count+=1\n",
    "        j+=1\n",
    "    i+=1\n",
    "print(count)"
   ]
  },
  {
   "cell_type": "code",
   "execution_count": 12,
   "metadata": {},
   "outputs": [
    {
     "name": "stdout",
     "output_type": "stream",
     "text": [
      "Hi\n",
      "All\n",
      "end\n"
     ]
    }
   ],
   "source": [
    "word1 = \"c\"\n",
    "word2 = \"c\"\n",
    "for i in range(0,len(word1)):\n",
    "    print(\"Hi\")\n",
    "    for j in range(0,len(word2)):\n",
    "        print(\"All\")\n",
    "print(\"end\")"
   ]
  },
  {
   "cell_type": "code",
   "execution_count": 13,
   "metadata": {},
   "outputs": [
    {
     "name": "stdout",
     "output_type": "stream",
     "text": [
      "loop1:  2\n",
      "loop1:  3\n",
      " loop2:  2\n",
      "loop1:  4\n",
      " loop2:  2\n",
      " loop2:  3\n"
     ]
    }
   ],
   "source": [
    "for i in range(2,5):\n",
    "    print(\"loop1: \",str(i))\n",
    "    for j in range(2,i):\n",
    "        print(\" loop2: \",str(j))\n",
    "    "
   ]
  },
  {
   "cell_type": "code",
   "execution_count": 14,
   "metadata": {},
   "outputs": [
    {
     "name": "stdout",
     "output_type": "stream",
     "text": [
      "1\n"
     ]
    }
   ],
   "source": [
    "name1 = \"Happy\"\n",
    "name2 = \"coding\"\n",
    "total = 1\n",
    "for i in name1:\n",
    "    for j in name2:\n",
    "        if i == j:\n",
    "            total+=1\n",
    "print(total)"
   ]
  },
  {
   "cell_type": "code",
   "execution_count": 16,
   "metadata": {},
   "outputs": [
    {
     "name": "stdout",
     "output_type": "stream",
     "text": [
      "\n"
     ]
    }
   ],
   "source": [
    "number = 2\n",
    "for i in range(0,number+1):\n",
    "    text = \"\"  \n",
    "    res = number - i \n",
    "    for j in range(res):   # after completing of inner iteration it will go to the outer iteration\n",
    "        text = text + str(res)\n",
    "    print(text)"
   ]
  },
  {
   "cell_type": "code",
   "execution_count": 17,
   "metadata": {},
   "outputs": [
    {
     "name": "stdout",
     "output_type": "stream",
     "text": [
      "2\n"
     ]
    }
   ],
   "source": [
    "st = \"\" \n",
    "for i in range(2,3):\n",
    "    for j in range(2,3):\n",
    "        st = st + str(j)\n",
    "    print(st)"
   ]
  },
  {
   "cell_type": "code",
   "execution_count": 18,
   "metadata": {},
   "outputs": [],
   "source": [
    "for i in range(1,2):\n",
    "    for j in range(5,5):\n",
    "        print(\"Good night\")"
   ]
  },
  {
   "cell_type": "code",
   "execution_count": 20,
   "metadata": {},
   "outputs": [
    {
     "name": "stdout",
     "output_type": "stream",
     "text": [
      "2\n",
      "5\n",
      "9\n"
     ]
    }
   ],
   "source": [
    "for i in range(1):\n",
    "    total = 0\n",
    "    for j in range(2,5):\n",
    "        total = total + j\n",
    "        if total>0:\n",
    "            print(total)"
   ]
  }
 ],
 "metadata": {
  "kernelspec": {
   "display_name": "Python 3",
   "language": "python",
   "name": "python3"
  },
  "language_info": {
   "codemirror_mode": {
    "name": "ipython",
    "version": 3
   },
   "file_extension": ".py",
   "mimetype": "text/x-python",
   "name": "python",
   "nbconvert_exporter": "python",
   "pygments_lexer": "ipython3",
   "version": "3.10.8"
  }
 },
 "nbformat": 4,
 "nbformat_minor": 2
}
