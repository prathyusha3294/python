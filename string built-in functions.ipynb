{
 "cells": [
  {
   "cell_type": "code",
   "execution_count": 6,
   "metadata": {},
   "outputs": [
    {
     "name": "stdout",
     "output_type": "stream",
     "text": [
      "Hello world\n"
     ]
    }
   ],
   "source": [
    "#captilize\n",
    "s = \"hello WoRld\"\n",
    "a = s.capitalize()\n",
    "print(a)"
   ]
  },
  {
   "cell_type": "code",
   "execution_count": 7,
   "metadata": {},
   "outputs": [
    {
     "name": "stdout",
     "output_type": "stream",
     "text": [
      "hello world\n"
     ]
    }
   ],
   "source": [
    "#lower: The lower() method returns a copy of the string with all the characters converted to lowercase.\n",
    "s = \"Hello World\"\n",
    "lowercased = s.lower()\n",
    "print(lowercased) "
   ]
  },
  {
   "cell_type": "code",
   "execution_count": 8,
   "metadata": {},
   "outputs": [
    {
     "name": "stdout",
     "output_type": "stream",
     "text": [
      "HELLO WORLD\n"
     ]
    }
   ],
   "source": [
    "#upper:The upper() method returns a copy of the string with all the characters converted to uppercase.\n",
    "s = \"hello World\"\n",
    "upercased = s.upper()\n",
    "print(upercased) \n"
   ]
  },
  {
   "cell_type": "code",
   "execution_count": 9,
   "metadata": {},
   "outputs": [
    {
     "name": "stdout",
     "output_type": "stream",
     "text": [
      "3\n"
     ]
    }
   ],
   "source": [
    "# count():The count() method returns the number of occurrences of a substring in the string.\n",
    "s = \"hello world\"\n",
    "count_l = s.count('l')\n",
    "print(count_l) "
   ]
  },
  {
   "cell_type": "code",
   "execution_count": 13,
   "metadata": {},
   "outputs": [
    {
     "name": "stdout",
     "output_type": "stream",
     "text": [
      "6\n"
     ]
    }
   ],
   "source": [
    "# find():The find() method returns the lowest index of the substring if found. Returns -1 if the substring is not found.\n",
    "s = \"hello world\"\n",
    "index = s.find('world')\n",
    "print(index) "
   ]
  },
  {
   "cell_type": "code",
   "execution_count": 14,
   "metadata": {},
   "outputs": [
    {
     "name": "stdout",
     "output_type": "stream",
     "text": [
      "hello Python\n"
     ]
    }
   ],
   "source": [
    "# replace()\n",
    "s = \"hello world\"\n",
    "replaced = s.replace('world', 'Python')\n",
    "print(replaced) \n"
   ]
  },
  {
   "cell_type": "code",
   "execution_count": 15,
   "metadata": {},
   "outputs": [
    {
     "name": "stdout",
     "output_type": "stream",
     "text": [
      "['hello', 'world']\n"
     ]
    }
   ],
   "source": [
    "# split():The split() method splits the string at the specified separator and returns a list of substrings.\n",
    "s = \"hello world\"\n",
    "split_list = s.split(' ')\n",
    "print(split_list) "
   ]
  },
  {
   "cell_type": "code",
   "execution_count": 16,
   "metadata": {},
   "outputs": [
    {
     "name": "stdout",
     "output_type": "stream",
     "text": [
      "hello world\n"
     ]
    }
   ],
   "source": [
    "# join():The join() method returns a string that is the concatenation of the strings in an iterable.\n",
    "words = ['hello', 'world']\n",
    "joined = ' '.join(words)\n",
    "print(joined) \n"
   ]
  },
  {
   "cell_type": "code",
   "execution_count": 17,
   "metadata": {},
   "outputs": [
    {
     "name": "stdout",
     "output_type": "stream",
     "text": [
      "hello world\n"
     ]
    }
   ],
   "source": [
    "# strip():The strip() method returns a copy of the string with leading and trailing whitespace removed.\n",
    "s = \"   hello world   \"\n",
    "stripped = s.strip()\n",
    "print(stripped) \n"
   ]
  },
  {
   "cell_type": "code",
   "execution_count": 18,
   "metadata": {},
   "outputs": [
    {
     "name": "stdout",
     "output_type": "stream",
     "text": [
      "True\n"
     ]
    }
   ],
   "source": [
    "#startswith:The startswith() method returns True if the string starts with the specified prefix, otherwise False.\n",
    "s = \"hello world\"\n",
    "starts = s.startswith('hello')\n",
    "print(starts)"
   ]
  },
  {
   "cell_type": "code",
   "execution_count": 19,
   "metadata": {},
   "outputs": [
    {
     "name": "stdout",
     "output_type": "stream",
     "text": [
      "True\n"
     ]
    }
   ],
   "source": [
    "# endswith():The endswith() method returns True if the string ends with the specified suffix, otherwise False.\n",
    "s = \"hello world\"\n",
    "ends = s.endswith('world')\n",
    "print(ends) \n"
   ]
  },
  {
   "cell_type": "code",
   "execution_count": 20,
   "metadata": {},
   "outputs": [
    {
     "name": "stdout",
     "output_type": "stream",
     "text": [
      "True\n"
     ]
    }
   ],
   "source": [
    "# isalpha():The isalpha() method returns True if all characters in the string are alphabetic, otherwise False.\n",
    "s = \"hello\"\n",
    "alpha = s.isalpha()\n",
    "print(alpha)\n"
   ]
  },
  {
   "cell_type": "code",
   "execution_count": 21,
   "metadata": {},
   "outputs": [
    {
     "name": "stdout",
     "output_type": "stream",
     "text": [
      "True\n"
     ]
    }
   ],
   "source": [
    "# isdigit():The isdigit() method returns True if all characters in the string are digits, otherwise False.\n",
    "s = \"12345\"\n",
    "digit = s.isdigit()\n",
    "print(digit) "
   ]
  },
  {
   "cell_type": "code",
   "execution_count": 22,
   "metadata": {},
   "outputs": [
    {
     "name": "stdout",
     "output_type": "stream",
     "text": [
      "True\n"
     ]
    }
   ],
   "source": [
    "# isalnum():The isalnum() method returns True if all characters in the string are alphanumeric (letters and numbers), otherwise False.\n",
    "s = \"hello123\"\n",
    "alnum = s.isalnum()\n",
    "print(alnum) \n"
   ]
  },
  {
   "cell_type": "code",
   "execution_count": 23,
   "metadata": {},
   "outputs": [
    {
     "name": "stdout",
     "output_type": "stream",
     "text": [
      "Hello World\n"
     ]
    }
   ],
   "source": [
    "# title():The title() method returns a copy of the string with the first letter of each word capitalized.\n",
    "s = \"hello world\"\n",
    "titled = s.title()\n",
    "print(titled) "
   ]
  },
  {
   "cell_type": "code",
   "execution_count": 24,
   "metadata": {},
   "outputs": [
    {
     "name": "stdout",
     "output_type": "stream",
     "text": [
      "hELLO wORLD\n"
     ]
    }
   ],
   "source": [
    "# swapcase():The swapcase() method returns a copy of the string with uppercase characters converted to lowercase and vice versa.\n",
    "\n",
    "s = \"Hello World\"\n",
    "swapped = s.swapcase()\n",
    "print(swapped)"
   ]
  }
 ],
 "metadata": {
  "kernelspec": {
   "display_name": "Python 3",
   "language": "python",
   "name": "python3"
  },
  "language_info": {
   "codemirror_mode": {
    "name": "ipython",
    "version": 3
   },
   "file_extension": ".py",
   "mimetype": "text/x-python",
   "name": "python",
   "nbconvert_exporter": "python",
   "pygments_lexer": "ipython3",
   "version": "3.10.8"
  }
 },
 "nbformat": 4,
 "nbformat_minor": 2
}
