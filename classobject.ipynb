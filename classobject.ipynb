{
 "cells": [
  {
   "cell_type": "code",
   "execution_count": 9,
   "metadata": {},
   "outputs": [
    {
     "name": "stdout",
     "output_type": "stream",
     "text": [
      "20\n",
      "10\n"
     ]
    }
   ],
   "source": [
    "#accessing the elements using class name\n",
    "class sample:\n",
    "    a=10\n",
    "    b=20\n",
    "print(sample.b)\n",
    "print(sample.a)"
   ]
  },
  {
   "cell_type": "code",
   "execution_count": 10,
   "metadata": {},
   "outputs": [
    {
     "name": "stdout",
     "output_type": "stream",
     "text": [
      "30\n"
     ]
    }
   ],
   "source": [
    "class demo:\n",
    "    a=10\n",
    "    b=20\n",
    "    c=a+b\n",
    "print(demo.c)"
   ]
  },
  {
   "cell_type": "code",
   "execution_count": 16,
   "metadata": {},
   "outputs": [
    {
     "name": "stdout",
     "output_type": "stream",
     "text": [
      "10\n",
      "20\n"
     ]
    }
   ],
   "source": [
    "#accessing the elements using objectnames\n",
    "class sample:\n",
    "    a=10\n",
    "    b=20\n",
    "obj=sample()   #syntax:obj_name=classname(arguments)\n",
    "print(obj.a)\n",
    "print(obj.b)"
   ]
  },
  {
   "cell_type": "code",
   "execution_count": 18,
   "metadata": {},
   "outputs": [
    {
     "name": "stdout",
     "output_type": "stream",
     "text": [
      "30\n"
     ]
    }
   ],
   "source": [
    "#modify\n",
    "class sample:\n",
    "    a=10\n",
    "    b=20\n",
    "sample.a=30\n",
    "print(sample.a) #modifying the elements using classname"
   ]
  },
  {
   "cell_type": "code",
   "execution_count": 23,
   "metadata": {},
   "outputs": [
    {
     "name": "stdout",
     "output_type": "stream",
     "text": [
      "10 20\n",
      "10 20\n",
      "10 20\n"
     ]
    }
   ],
   "source": [
    "#accessing the generic attributs of the class\n",
    "class sample:\n",
    "    a=10\n",
    "    b=20\n",
    "print(sample.a,sample.b)\n",
    "obj=sample()\n",
    "print(obj.a,obj.b)\n",
    "obj2=sample()\n",
    "print(obj2.a,obj2.b)"
   ]
  },
  {
   "cell_type": "code",
   "execution_count": 29,
   "metadata": {},
   "outputs": [
    {
     "name": "stdout",
     "output_type": "stream",
     "text": [
      "300 300 300\n"
     ]
    }
   ],
   "source": [
    "#modifying the generic attributes of the class\n",
    "class sample:\n",
    "    a=10\n",
    "    b=20\n",
    "obj=sample()\n",
    "obj2=sample()\n",
    "sample.a=300\n",
    "print(sample.a,obj.a,obj2.a)"
   ]
  },
  {
   "cell_type": "code",
   "execution_count": 30,
   "metadata": {},
   "outputs": [
    {
     "name": "stdout",
     "output_type": "stream",
     "text": [
      "10 300 10\n"
     ]
    }
   ],
   "source": [
    "class sample:\n",
    "    a=10\n",
    "    b=20\n",
    "obj=sample()\n",
    "obj2=sample()\n",
    "obj.a=300\n",
    "print(sample.a,obj.a,obj2.a) #if we want to modify inside the classmemory it will impact on objectmemory also \n",
    "#if we want to modify inside the objectmemory it will not impact on classmemory"
   ]
  },
  {
   "cell_type": "code",
   "execution_count": 8,
   "metadata": {},
   "outputs": [],
   "source": [
    "#deleting the generic attributes of the class\n",
    "class sample:\n",
    "    a=10\n",
    "    b=20\n",
    "obj=sample()\n",
    "del sample.a"
   ]
  },
  {
   "cell_type": "code",
   "execution_count": 7,
   "metadata": {},
   "outputs": [
    {
     "name": "stdout",
     "output_type": "stream",
     "text": [
      "name jenny\n",
      "age 23\n",
      "course python\n"
     ]
    }
   ],
   "source": [
    "class sample:\n",
    "    def __init__(self,name,age,course):\n",
    "        self.name = name\n",
    "        self.age = age \n",
    "        self.course = course\n",
    "        \n",
    "sample_instance = sample(\"jenny\",23,\"python\")\n",
    "name = sample_instance.name\n",
    "age = sample_instance.age\n",
    "course = sample_instance.course\n",
    "\n",
    "print(\"name:\",name)\n",
    "print(\"age:\",age)\n",
    "print(\"course:\",course)\n"
   ]
  },
  {
   "cell_type": "code",
   "execution_count": 8,
   "metadata": {},
   "outputs": [],
   "source": [
    "class Student:\n",
    "   def __init__(self, fname, lname, age, section):\n",
    "       self.firstname = fname\n",
    "       self.lastname = lname\n",
    "       self.age = age\n",
    "       self.section = section\n",
    "# creating a new object\n",
    "stu1 = Student(\"Sara\", \"Ansh\", 22, \"A2\")"
   ]
  },
  {
   "cell_type": "code",
   "execution_count": 1,
   "metadata": {},
   "outputs": [
    {
     "name": "stdout",
     "output_type": "stream",
     "text": [
      "<class '__main__.Mobile'>\n"
     ]
    }
   ],
   "source": [
    "class Mobile:\n",
    "    def __init__(self,model,camera):\n",
    "        self.model = model\n",
    "        self.camera = camera \n",
    "obj = Mobile(\"iphone\",\"13mp\")\n",
    "obj2 = Mobile(\"andriod\",\"12mp\")\n",
    "print(type(obj2))\n",
    "# print(id(obj))\n",
    "is_same_id = id(obj) == id(obj2)\n",
    "# print(is_same_id)"
   ]
  },
  {
   "cell_type": "code",
   "execution_count": 14,
   "metadata": {},
   "outputs": [
    {
     "name": "stdout",
     "output_type": "stream",
     "text": [
      "['book']\n",
      "['book', 'laptop']\n",
      "Total: 101500\n",
      "{'book': 500, 'laptop': 100000}\n"
     ]
    }
   ],
   "source": [
    "class Cart:\n",
    "    def __init__(self):\n",
    "        self.items = {}\n",
    "        self.price_details = {'book': 500, 'laptop': 100000}\n",
    "    \n",
    "    def add_cart(self, item_name, quantity):\n",
    "        self.items[item_name] = quantity\n",
    "    \n",
    "    def remove_item(self, item_name):\n",
    "        if item_name in self.items:\n",
    "            del self.items[item_name]\n",
    "    \n",
    "    def update_item(self, item_name, quantity):\n",
    "        if item_name in self.items:\n",
    "            self.items[item_name] = quantity\n",
    "    \n",
    "    def get_cart_items(self):\n",
    "        cart_items = list(self.items.keys())\n",
    "        return cart_items\n",
    "    \n",
    "    def calculate_total(self):\n",
    "        total = 0\n",
    "        for item_name, quantity in self.items.items():\n",
    "            if item_name in self.price_details:\n",
    "                total += quantity * self.price_details[item_name]\n",
    "        return total\n",
    "\n",
    "# Creating an instance of Cart\n",
    "cartobj = Cart()\n",
    "\n",
    "# Adding items to the cart\n",
    "cartobj.add_cart(\"book\", 3)\n",
    "\n",
    "# Getting the current cart items\n",
    "print(cartobj.get_cart_items())  # Output: ['book']\n",
    "\n",
    "# Adding another item to the cart\n",
    "cartobj.add_cart(\"laptop\", 1)\n",
    "\n",
    "# Getting the updated cart items\n",
    "print(cartobj.get_cart_items())  # Output: ['book', 'laptop']\n",
    "\n",
    "# Calculating the total cost\n",
    "total = cartobj.calculate_total()\n",
    "print(f\"Total: {total}\")  # Output: Total: 101500\n",
    "print(cartobj.price_details)\n"
   ]
  },
  {
   "cell_type": "code",
   "execution_count": 9,
   "metadata": {},
   "outputs": [
    {
     "name": "stdout",
     "output_type": "stream",
     "text": [
      "Iphone12 Pro\n"
     ]
    }
   ],
   "source": [
    "class Mobile:\n",
    "    def __init__(self,model):\n",
    "        self.model = model\n",
    "    def update_model(self,model):\n",
    "        self.model = model\n",
    "obj1 = Mobile(\"Iphone12\")\n",
    "obj1.update_model(\"Iphone12 Pro\")\n",
    "print(obj1.model)"
   ]
  },
  {
   "cell_type": "code",
   "execution_count": 22,
   "metadata": {},
   "outputs": [
    {
     "name": "stdout",
     "output_type": "stream",
     "text": [
      "shivaKummar\n",
      "None\n"
     ]
    }
   ],
   "source": [
    "class Person:\n",
    "    def __init__(self,first_name,last_name):\n",
    "        self.first_name = first_name\n",
    "        self.last_name = last_name\n",
    "    def full_name(self,first_name = \"sai\",last_name = \"ravi\"):\n",
    "        print(\"{}{}\".format(first_name,last_name))\n",
    "personobj = Person(\"Prathyusha\",\"Kummari\")\n",
    "full_name = personobj.full_name(\"shiva\",\"Kummar\")\n",
    "print(full_name)\n"
   ]
  },
  {
   "cell_type": "code",
   "execution_count": 13,
   "metadata": {},
   "outputs": [
    {
     "name": "stdout",
     "output_type": "stream",
     "text": [
      "Iphone 12\n"
     ]
    }
   ],
   "source": [
    "class Mobile:\n",
    "    def __init__(self,model,storage):\n",
    "        self.model = model\n",
    "        self.storage = storage\n",
    "obj1 = Mobile(\"Iphone 12\",\"8gb\")\n",
    "print(obj1.model)"
   ]
  },
  {
   "cell_type": "code",
   "execution_count": 25,
   "metadata": {},
   "outputs": [
    {
     "name": "stdout",
     "output_type": "stream",
     "text": [
      "Red\n",
      "250\n",
      "10\n",
      "3\n"
     ]
    }
   ],
   "source": [
    "class Car:\n",
    "    def __init__(self,color,max_speed,acceleration,tyre_friction):\n",
    "        self.color=color\n",
    "        self.max_speed=max_speed\n",
    "        self.acceleration=acceleration\n",
    "        self.tyre_friction=tyre_friction\n",
    "car_instance = Car(\"Red\",\"250\",\"10\",\"3\")\n",
    "print(car_instance.color)\n",
    "print(car_instance.max_speed)\n",
    "print(car_instance.acceleration)\n",
    "print(car_instance.tyre_friction)\n"
   ]
  },
  {
   "cell_type": "code",
   "execution_count": 35,
   "metadata": {},
   "outputs": [
    {
     "name": "stdout",
     "output_type": "stream",
     "text": [
      "{'book': 3}\n",
      "100\n",
      "100\n"
     ]
    }
   ],
   "source": [
    "class Cart:\n",
    "    flat_discount = 0\n",
    "    min_bill =100\n",
    "    def __init__(self):\n",
    "        self.items = {}\n",
    "    def add_item(self,item_name,quantity):\n",
    "        self.items[item_name] = quantity\n",
    "    def display_items(self):\n",
    "        print(self.items)\n",
    "    def print_min_bill(self):\n",
    "        print(Cart.min_bill)\n",
    "obj1 = Cart()\n",
    "obj1.add_item('book',3)\n",
    "obj1.display_items()\n",
    "print(Cart.min_bill)\n",
    "obj1.print_min_bill()\n",
    "        "
   ]
  },
  {
   "cell_type": "code",
   "execution_count": 33,
   "metadata": {},
   "outputs": [
    {
     "name": "stdout",
     "output_type": "stream",
     "text": [
      "True\n"
     ]
    }
   ],
   "source": [
    "class Carts:\n",
    "    def __init__(self):\n",
    "        self.items = {}\n",
    "    def get_instance(self):\n",
    "        return self\n",
    "a = Carts()\n",
    "b = a.get_instance()\n",
    "print(a == b)"
   ]
  },
  {
   "cell_type": "code",
   "execution_count": 38,
   "metadata": {},
   "outputs": [
    {
     "name": "stdout",
     "output_type": "stream",
     "text": [
      "50\n"
     ]
    }
   ],
   "source": [
    "#classmethod\n",
    "class Cart:\n",
    "    flat_discount = 0\n",
    "    min_bill = 100\n",
    "    @classmethod\n",
    "    def update_flat_discount(cls,new_flat_discount):\n",
    "        cls.flat_discount = new_flat_discount\n",
    "    @classmethod\n",
    "    def increase_flat_discount(cls,amount):\n",
    "        new_flat_discount = cls.flat_discount + amount \n",
    "        cls.update_flat_discount(new_flat_discount)\n",
    "Cart.increase_flat_discount(50)\n",
    "print(Cart.flat_discount)"
   ]
  }
 ],
 "metadata": {
  "kernelspec": {
   "display_name": "base",
   "language": "python",
   "name": "python3"
  },
  "language_info": {
   "codemirror_mode": {
    "name": "ipython",
    "version": 3
   },
   "file_extension": ".py",
   "mimetype": "text/x-python",
   "name": "python",
   "nbconvert_exporter": "python",
   "pygments_lexer": "ipython3",
   "version": "3.10.8"
  },
  "orig_nbformat": 4
 },
 "nbformat": 4,
 "nbformat_minor": 2
}
