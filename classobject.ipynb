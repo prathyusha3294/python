{
 "cells": [
  {
   "cell_type": "code",
   "execution_count": 9,
   "metadata": {},
   "outputs": [
    {
     "name": "stdout",
     "output_type": "stream",
     "text": [
      "20\n",
      "10\n"
     ]
    }
   ],
   "source": [
    "#accessing the elements using class name\n",
    "class sample:\n",
    "    a=10\n",
    "    b=20\n",
    "print(sample.b)\n",
    "print(sample.a)"
   ]
  },
  {
   "cell_type": "code",
   "execution_count": 10,
   "metadata": {},
   "outputs": [
    {
     "name": "stdout",
     "output_type": "stream",
     "text": [
      "30\n"
     ]
    }
   ],
   "source": [
    "class demo:\n",
    "    a=10\n",
    "    b=20\n",
    "    c=a+b\n",
    "print(demo.c)"
   ]
  },
  {
   "cell_type": "code",
   "execution_count": 16,
   "metadata": {},
   "outputs": [
    {
     "name": "stdout",
     "output_type": "stream",
     "text": [
      "10\n",
      "20\n"
     ]
    }
   ],
   "source": [
    "#accessing the elements using objectnames\n",
    "class sample:\n",
    "    a=10\n",
    "    b=20\n",
    "obj=sample()   #syntax:obj_name=classname(arguments)\n",
    "print(obj.a)\n",
    "print(obj.b)"
   ]
  },
  {
   "cell_type": "code",
   "execution_count": 18,
   "metadata": {},
   "outputs": [
    {
     "name": "stdout",
     "output_type": "stream",
     "text": [
      "30\n"
     ]
    }
   ],
   "source": [
    "#modify\n",
    "class sample:\n",
    "    a=10\n",
    "    b=20\n",
    "sample.a=30\n",
    "print(sample.a) #modifying the elements using classname"
   ]
  },
  {
   "cell_type": "code",
   "execution_count": 23,
   "metadata": {},
   "outputs": [
    {
     "name": "stdout",
     "output_type": "stream",
     "text": [
      "10 20\n",
      "10 20\n",
      "10 20\n"
     ]
    }
   ],
   "source": [
    "#accessing the generic attributs of the class\n",
    "class sample:\n",
    "    a=10\n",
    "    b=20\n",
    "print(sample.a,sample.b)\n",
    "obj=sample()\n",
    "print(obj.a,obj.b)\n",
    "obj2=sample()\n",
    "print(obj2.a,obj2.b)"
   ]
  },
  {
   "cell_type": "code",
   "execution_count": 29,
   "metadata": {},
   "outputs": [
    {
     "name": "stdout",
     "output_type": "stream",
     "text": [
      "300 300 300\n"
     ]
    }
   ],
   "source": [
    "#modifying the generic attributes of the class\n",
    "class sample:\n",
    "    a=10\n",
    "    b=20\n",
    "obj=sample()\n",
    "obj2=sample()\n",
    "sample.a=300\n",
    "print(sample.a,obj.a,obj2.a)"
   ]
  },
  {
   "cell_type": "code",
   "execution_count": 30,
   "metadata": {},
   "outputs": [
    {
     "name": "stdout",
     "output_type": "stream",
     "text": [
      "10 300 10\n"
     ]
    }
   ],
   "source": [
    "class sample:\n",
    "    a=10\n",
    "    b=20\n",
    "obj=sample()\n",
    "obj2=sample()\n",
    "obj.a=300\n",
    "print(sample.a,obj.a,obj2.a) #if we want to modify inside the classmemory it will impact on objectmemory also \n",
    "#if we want to modify inside the objectmemory it will not impact on classmemory"
   ]
  },
  {
   "cell_type": "code",
   "execution_count": 8,
   "metadata": {},
   "outputs": [],
   "source": [
    "#deleting the generic attributes of the class\n",
    "class sample:\n",
    "    a=10\n",
    "    b=20\n",
    "obj=sample()\n",
    "del sample.a"
   ]
  }
 ],
 "metadata": {
  "kernelspec": {
   "display_name": "base",
   "language": "python",
   "name": "python3"
  },
  "language_info": {
   "codemirror_mode": {
    "name": "ipython",
    "version": 3
   },
   "file_extension": ".py",
   "mimetype": "text/x-python",
   "name": "python",
   "nbconvert_exporter": "python",
   "pygments_lexer": "ipython3",
   "version": "3.10.9"
  },
  "orig_nbformat": 4
 },
 "nbformat": 4,
 "nbformat_minor": 2
}
