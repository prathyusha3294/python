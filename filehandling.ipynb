{
 "cells": [
  {
   "cell_type": "code",
   "execution_count": 1,
   "metadata": {},
   "outputs": [
    {
     "name": "stdout",
     "output_type": "stream",
     "text": [
      "Using these basic file handling techniques, you can manage file operations effectively in Python. If you need to perform more complex file manipulations, you can use libraries like os and shutil for additional functionality such as file copying, moving, and deletion.\n"
     ]
    }
   ],
   "source": [
    "fp = open(r\"D:\\python basic questions\\demo.txt\",'r')\n",
    "res = fp.read()\n",
    "print(res)\n",
    "fp.close()"
   ]
  },
  {
   "cell_type": "code",
   "execution_count": 9,
   "metadata": {},
   "outputs": [
    {
     "name": "stdout",
     "output_type": "stream",
     "text": [
      "Using these basic file handling techniques, you can manage file operations effectively in Python. If you need to perform more complex file manipulations, you can use libraries like os and shutil for additional functionality such as file copying, moving, and deletion.\n",
      "2\n"
     ]
    }
   ],
   "source": [
    "#WAP to count the number of times given string is occured from selected text file\n",
    "fp = open(r\"D:\\python basic questions\\demo.txt\",'r')\n",
    "res = fp.read()\n",
    "print(res)\n",
    "l = res.split().count(\"and\")\n",
    "print(l)\n"
   ]
  },
  {
   "cell_type": "code",
   "execution_count": 13,
   "metadata": {},
   "outputs": [
    {
     "name": "stdout",
     "output_type": "stream",
     "text": [
      "40\n",
      "0\n",
      "40\n"
     ]
    }
   ],
   "source": [
    "#write mode:\n",
    "\n",
    "fp = open(r'D:\\python basic questions\\demo1.txt','w')\n",
    "data = \"dictionary built-in function.ipynb Hello\"\n",
    "print(len(data))\n",
    "print(fp.tell())\n",
    "fp.write(data)\n",
    "print(fp.tell())\n",
    "\n",
    "fp.close()"
   ]
  },
  {
   "cell_type": "code",
   "execution_count": 15,
   "metadata": {},
   "outputs": [
    {
     "name": "stdout",
     "output_type": "stream",
     "text": [
      "dictionary built-in function.ipynb Helloi am prathyusha\n",
      "dictionary built-in function.ipynb Helloi am prathyusha\n",
      " hello\n"
     ]
    }
   ],
   "source": [
    "#seek\n",
    "fp = open(r\"D:\\python basic questions\\demo1.txt\",'r+')\n",
    "res = fp.read()\n",
    "fp.write(\"i am prathyusha\")\n",
    "fp.seek(0)\n",
    "res = fp.read()\n",
    "print(res)\n",
    "fp.write(\"\\n hello\")\n",
    "fp.seek(0)\n",
    "res = fp.read()\n",
    "print(res)\n",
    "fp.close()\n"
   ]
  }
 ],
 "metadata": {
  "kernelspec": {
   "display_name": "Python 3",
   "language": "python",
   "name": "python3"
  },
  "language_info": {
   "codemirror_mode": {
    "name": "ipython",
    "version": 3
   },
   "file_extension": ".py",
   "mimetype": "text/x-python",
   "name": "python",
   "nbconvert_exporter": "python",
   "pygments_lexer": "ipython3",
   "version": "3.10.8"
  }
 },
 "nbformat": 4,
 "nbformat_minor": 2
}
