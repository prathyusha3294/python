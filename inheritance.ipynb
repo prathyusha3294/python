{
 "cells": [
  {
   "cell_type": "code",
   "execution_count": 15,
   "metadata": {},
   "outputs": [
    {
     "name": "stdout",
     "output_type": "stream",
     "text": [
      "1000\n",
      "1000\n",
      "2000\n",
      "2000\n",
      "10\n",
      "20\n"
     ]
    }
   ],
   "source": [
    "#acess\n",
    "class parent:\n",
    "    a=1000\n",
    "    b=2000\n",
    "class child(parent):\n",
    "    x=10\n",
    "    y=20\n",
    "print(parent.a)\n",
    "print(child.a)\n",
    "print(parent.b)\n",
    "print(child.b)#we can acess parent class to child class\n",
    "print(child.x)\n",
    "print(child.y)\n",
    "#print(parent.x)#we cannot access child class to parent class\n",
    "#print(parent.y)"
   ]
  },
  {
   "cell_type": "code",
   "execution_count": 18,
   "metadata": {},
   "outputs": [
    {
     "name": "stdout",
     "output_type": "stream",
     "text": [
      "100\n",
      "100\n"
     ]
    }
   ],
   "source": [
    "#modify\n",
    "class parent:\n",
    "    a=1000\n",
    "    b=2000\n",
    "class child(parent):\n",
    "    x=10\n",
    "    y=20\n",
    "parent.a=100\n",
    "print(parent.a)#if we want to modify the parent class it will impact on child class also\n",
    "print(child.a)\n",
    "child.x=50\n",
    "#print(child.x)#in the child class we can modify only in the child class it will not impact on the on the parent class\n",
    "#print(parent.x)"
   ]
  },
  {
   "cell_type": "code",
   "execution_count": 11,
   "metadata": {},
   "outputs": [
    {
     "name": "stdout",
     "output_type": "stream",
     "text": [
      "10\n"
     ]
    }
   ],
   "source": [
    "#delete\n",
    "class parent:\n",
    "    a=1000\n",
    "    b=2000\n",
    "class child(parent):\n",
    "    x=10\n",
    "    y=20\n",
    "del parent.a\n",
    "#print(parent.a)\n",
    "print(child.a)"
   ]
  },
  {
   "cell_type": "code",
   "execution_count": 13,
   "metadata": {},
   "outputs": [
    {
     "name": "stdout",
     "output_type": "stream",
     "text": [
      "3000\n",
      "3000\n"
     ]
    }
   ],
   "source": [
    "#re-intialize\n",
    "class parent:\n",
    "    a=1000\n",
    "    b=2000\n",
    "class child(parent):\n",
    "    x=10\n",
    "    y=20\n",
    "parent.c=3000\n",
    "print(parent.c)\n",
    "print(child.c)"
   ]
  },
  {
   "cell_type": "code",
   "execution_count": 1,
   "metadata": {},
   "outputs": [
    {
     "name": "stdout",
     "output_type": "stream",
     "text": [
      "{'__module__': '__main__', 'a': 1000, 'b': 2000, '__dict__': <attribute '__dict__' of 'parent' objects>, '__weakref__': <attribute '__weakref__' of 'parent' objects>, '__doc__': None}\n",
      "{}\n",
      "{'__module__': '__main__', 'x': 10, 'y': 20, '__doc__': None}\n",
      "{}\n",
      "1000 2000\n",
      "1000 2000\n",
      "1000 2000\n",
      "1000 2000\n",
      "10 20\n",
      "10 20\n"
     ]
    }
   ],
   "source": [
    "#parent-objects and child-objects\n",
    "class parent:\n",
    "    a=1000\n",
    "    b=2000\n",
    "class child(parent):\n",
    "    x=10\n",
    "    y=20\n",
    "parent_obj=parent()\n",
    "child_obj=child()\n",
    "print(parent.__dict__)\n",
    "print(parent_obj.__dict__)\n",
    "print(child.__dict__)\n",
    "print(child_obj.__dict__)\n",
    "#accessing\n",
    "print(parent.a,parent.b)\n",
    "print(child.a,child.b)\n",
    "print(parent_obj.a,parent_obj.b)\n",
    "print(child_obj.a,child_obj.b)\n",
    "print(child.x,child.y)\n",
    "print(child_obj.x,child_obj.y)\n",
    "#print(parent.x,parent.y)\n",
    "#print(parent_obj.y,parent_obj.x)"
   ]
  },
  {
   "cell_type": "code",
   "execution_count": null,
   "metadata": {},
   "outputs": [],
   "source": [
    "#modify parent_object\n",
    "class parent:\n",
    "    a=10\n",
    "    b=20\n",
    "class child(parent):\n",
    "    x=20\n",
    "    y=30\n",
    "parent_obj=parent()"
   ]
  },
  {
   "cell_type": "code",
   "execution_count": 10,
   "metadata": {},
   "outputs": [
    {
     "name": "stdout",
     "output_type": "stream",
     "text": [
      "10\n",
      "{'__module__': '__main__', 'a': 10, 'b': 20, '__dict__': <attribute '__dict__' of 'A' objects>, '__weakref__': <attribute '__weakref__' of 'A' objects>, '__doc__': None}\n",
      "{}\n",
      "10\n"
     ]
    }
   ],
   "source": [
    "#class and object modify\n",
    "class A:\n",
    "    a=10\n",
    "    b=20\n",
    "x=A()\n",
    "print(x.a)\n",
    "print(A.__dict__)\n",
    "print(x.__dict__)\n",
    "print(A.a)"
   ]
  },
  {
   "cell_type": "code",
   "execution_count": 36,
   "metadata": {},
   "outputs": [],
   "source": [
    "\n",
    "class SBI:\n",
    "    Bank_name=\"SBI\"\n",
    "    branch=\"ameerpet\"\n",
    "    address=\"ameerpet hyd\"\n",
    "    IFSC=\"SBIN0000950\"\n",
    "    no_of_cust=0\n",
    "    code=840\n",
    "    details={}\n",
    "    def __init__(self,name,age,email):\n",
    "        self.name=name\n",
    "        self.age=age\n",
    "        self.email=email\n",
    "        self.no_of_inc()\n",
    "        self.acc_no=self.code+self.no_of_cust\n",
    "        self.bal=0\n",
    "        SBI.details[self.acc_no]=self\n",
    "    @classmethod\n",
    "    def no_of_inc(cls):\n",
    "        cls.no_of_cust+=1\n",
    "    def withdraw(self):\n",
    "        n=int(input(\"enter the withdraw amount\"))\n",
    "        if self.bal>n:\n",
    "            self.bal-=n\n",
    "            print(\"transaction success\")\n",
    "        else:\n",
    "            print(\"insufficient fund\")\n",
    "    def deposit(self):\n",
    "        n=int(input(\"enter the deposited amount\"))\n",
    "        self.bal+=n\n",
    "        print(\"transaction is success\")\n",
    "    def check_bal(self):\n",
    "        print(self.bal)\n",
    "geetha=SBI(\"geetha\",21,'geetha@gmail.com')\n",
    "priya=SBI(\"priya\",23,\"priya@gmail.com\")"
   ]
  },
  {
   "cell_type": "code",
   "execution_count": 37,
   "metadata": {},
   "outputs": [
    {
     "ename": "SyntaxError",
     "evalue": "(unicode error) 'unicodeescape' codec can't decode bytes in position 2-3: truncated \\UXXXXXXXX escape (2342345630.py, line 2)",
     "output_type": "error",
     "traceback": [
      "\u001b[1;36m  Cell \u001b[1;32mIn[37], line 2\u001b[1;36m\u001b[0m\n\u001b[1;33m    with open(\"C:\\Users\\PRATHYUSHA\\OneDrive\\Desktop\\python core\\python excel.csv\",'w') as file:\u001b[0m\n\u001b[1;37m                                                                                 ^\u001b[0m\n\u001b[1;31mSyntaxError\u001b[0m\u001b[1;31m:\u001b[0m (unicode error) 'unicodeescape' codec can't decode bytes in position 2-3: truncated \\UXXXXXXXX escape\n"
     ]
    }
   ],
   "source": [
    "import csv\n",
    "with open(\"C:\\Users\\PRATHYUSHA\\OneDrive\\Desktop\\python core\\python excel.csv\",'w') as file:\n",
    "    fieldnames=SBI\n",
    "    writer.writerow({fieldnames})"
   ]
  },
  {
   "cell_type": "code",
   "execution_count": 19,
   "metadata": {},
   "outputs": [
    {
     "data": {
      "text/plain": [
       "{'name': 'geetha',\n",
       " 'age': 21,\n",
       " 'email': 'geetha@gmail.com',\n",
       " 'acc_no': 841,\n",
       " 'bal': 0}"
      ]
     },
     "execution_count": 19,
     "metadata": {},
     "output_type": "execute_result"
    }
   ],
   "source": [
    "geetha.__dict__"
   ]
  },
  {
   "cell_type": "code",
   "execution_count": 20,
   "metadata": {},
   "outputs": [
    {
     "name": "stdout",
     "output_type": "stream",
     "text": [
      "insufficient fund\n"
     ]
    }
   ],
   "source": [
    "geetha.withdraw()"
   ]
  },
  {
   "cell_type": "code",
   "execution_count": 26,
   "metadata": {},
   "outputs": [
    {
     "name": "stdout",
     "output_type": "stream",
     "text": [
      "transaction is success\n"
     ]
    }
   ],
   "source": [
    "geetha.deposit()"
   ]
  },
  {
   "cell_type": "code",
   "execution_count": 27,
   "metadata": {},
   "outputs": [
    {
     "name": "stdout",
     "output_type": "stream",
     "text": [
      "40\n"
     ]
    }
   ],
   "source": [
    "geetha.check_bal()"
   ]
  },
  {
   "cell_type": "code",
   "execution_count": 17,
   "metadata": {},
   "outputs": [
    {
     "data": {
      "text/plain": [
       "{'name': 'priya',\n",
       " 'age': 23,\n",
       " 'email': 'priya@gmail.com',\n",
       " 'acc_no': 842,\n",
       " 'bal': 0}"
      ]
     },
     "execution_count": 17,
     "metadata": {},
     "output_type": "execute_result"
    }
   ],
   "source": [
    "priya.__dict__"
   ]
  }
 ],
 "metadata": {
  "kernelspec": {
   "display_name": "base",
   "language": "python",
   "name": "python3"
  },
  "language_info": {
   "codemirror_mode": {
    "name": "ipython",
    "version": 3
   },
   "file_extension": ".py",
   "mimetype": "text/x-python",
   "name": "python",
   "nbconvert_exporter": "python",
   "pygments_lexer": "ipython3",
   "version": "3.10.9"
  },
  "orig_nbformat": 4
 },
 "nbformat": 4,
 "nbformat_minor": 2
}
