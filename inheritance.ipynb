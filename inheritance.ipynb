{
 "cells": [
  {
   "cell_type": "code",
   "execution_count": 15,
   "metadata": {},
   "outputs": [
    {
     "name": "stdout",
     "output_type": "stream",
     "text": [
      "1000\n",
      "1000\n",
      "2000\n",
      "2000\n",
      "10\n",
      "20\n"
     ]
    }
   ],
   "source": [
    "#acess\n",
    "class parent:\n",
    "    a=1000\n",
    "    b=2000\n",
    "class child(parent):\n",
    "    x=10\n",
    "    y=20\n",
    "print(parent.a)\n",
    "print(child.a)\n",
    "print(parent.b)\n",
    "print(child.b)#we can acess parent class to child class\n",
    "print(child.x)\n",
    "print(child.y)\n",
    "#print(parent.x)#we cannot access child class to parent class\n",
    "#print(parent.y)"
   ]
  },
  {
   "cell_type": "code",
   "execution_count": 18,
   "metadata": {},
   "outputs": [
    {
     "name": "stdout",
     "output_type": "stream",
     "text": [
      "100\n",
      "100\n"
     ]
    }
   ],
   "source": [
    "#modify\n",
    "class parent:\n",
    "    a=1000\n",
    "    b=2000\n",
    "class child(parent):\n",
    "    x=10\n",
    "    y=20\n",
    "parent.a=100\n",
    "print(parent.a)#if we want to modify the parent class it will impact on child class also\n",
    "print(child.a)\n",
    "child.x=50\n",
    "#print(child.x)#in the child class we can modify only in the child class it will not impact on the on the parent class\n",
    "#print(parent.x)"
   ]
  },
  {
   "cell_type": "code",
   "execution_count": 11,
   "metadata": {},
   "outputs": [
    {
     "name": "stdout",
     "output_type": "stream",
     "text": [
      "10\n"
     ]
    }
   ],
   "source": [
    "#delete\n",
    "class parent:\n",
    "    a=1000\n",
    "    b=2000\n",
    "class child(parent):\n",
    "    x=10\n",
    "    y=20\n",
    "del parent.a\n",
    "#print(parent.a)\n",
    "print(child.a)"
   ]
  },
  {
   "cell_type": "code",
   "execution_count": 13,
   "metadata": {},
   "outputs": [
    {
     "name": "stdout",
     "output_type": "stream",
     "text": [
      "3000\n",
      "3000\n"
     ]
    }
   ],
   "source": [
    "#re-intialize\n",
    "class parent:\n",
    "    a=1000\n",
    "    b=2000\n",
    "class child(parent):\n",
    "    x=10\n",
    "    y=20\n",
    "parent.c=3000\n",
    "print(parent.c)\n",
    "print(child.c)"
   ]
  },
  {
   "cell_type": "code",
   "execution_count": 1,
   "metadata": {},
   "outputs": [
    {
     "name": "stdout",
     "output_type": "stream",
     "text": [
      "{'__module__': '__main__', 'a': 1000, 'b': 2000, '__dict__': <attribute '__dict__' of 'parent' objects>, '__weakref__': <attribute '__weakref__' of 'parent' objects>, '__doc__': None}\n",
      "{}\n",
      "{'__module__': '__main__', 'x': 10, 'y': 20, '__doc__': None}\n",
      "{}\n",
      "1000 2000\n",
      "1000 2000\n",
      "1000 2000\n",
      "1000 2000\n",
      "10 20\n",
      "10 20\n"
     ]
    }
   ],
   "source": [
    "#parent-objects and child-objects\n",
    "class parent:\n",
    "    a=1000\n",
    "    b=2000\n",
    "class child(parent):\n",
    "    x=10\n",
    "    y=20\n",
    "parent_obj=parent()\n",
    "child_obj=child()\n",
    "print(parent.__dict__)\n",
    "print(parent_obj.__dict__)\n",
    "print(child.__dict__)\n",
    "print(child_obj.__dict__)\n",
    "#accessing\n",
    "print(parent.a,parent.b)\n",
    "print(child.a,child.b)\n",
    "print(parent_obj.a,parent_obj.b)\n",
    "print(child_obj.a,child_obj.b)\n",
    "print(child.x,child.y)\n",
    "print(child_obj.x,child_obj.y)\n",
    "#print(parent.x,parent.y)\n",
    "#print(parent_obj.y,parent_obj.x)"
   ]
  },
  {
   "cell_type": "code",
   "execution_count": null,
   "metadata": {},
   "outputs": [],
   "source": [
    "#modify parent_object\n",
    "class parent:\n",
    "    a=10\n",
    "    b=20\n",
    "class child(parent):\n",
    "    x=20\n",
    "    y=30\n",
    "parent_obj=parent()"
   ]
  },
  {
   "cell_type": "code",
   "execution_count": 10,
   "metadata": {},
   "outputs": [
    {
     "name": "stdout",
     "output_type": "stream",
     "text": [
      "10\n",
      "{'__module__': '__main__', 'a': 10, 'b': 20, '__dict__': <attribute '__dict__' of 'A' objects>, '__weakref__': <attribute '__weakref__' of 'A' objects>, '__doc__': None}\n",
      "{}\n",
      "10\n"
     ]
    }
   ],
   "source": [
    "#class and object modify\n",
    "class A:\n",
    "    a=10\n",
    "    b=20\n",
    "x=A()\n",
    "print(x.a)\n",
    "print(A.__dict__)\n",
    "print(x.__dict__)\n",
    "print(A.a)"
   ]
  },
  {
   "cell_type": "code",
   "execution_count": 36,
   "metadata": {},
   "outputs": [],
   "source": [
    "\n",
    "class SBI:\n",
    "    Bank_name=\"SBI\"\n",
    "    branch=\"ameerpet\"\n",
    "    address=\"ameerpet hyd\"\n",
    "    IFSC=\"SBIN0000950\"\n",
    "    no_of_cust=0\n",
    "    code=840\n",
    "    details={}\n",
    "    def __init__(self,name,age,email):\n",
    "        self.name=name\n",
    "        self.age=age\n",
    "        self.email=email\n",
    "        self.no_of_inc()\n",
    "        self.acc_no=self.code+self.no_of_cust\n",
    "        self.bal=0\n",
    "        SBI.details[self.acc_no]=self\n",
    "    @classmethod\n",
    "    def no_of_inc(cls):\n",
    "        cls.no_of_cust+=1\n",
    "    def withdraw(self):\n",
    "        n=int(input(\"enter the withdraw amount\"))\n",
    "        if self.bal>n:\n",
    "            self.bal-=n\n",
    "            print(\"transaction success\")\n",
    "        else:\n",
    "            print(\"insufficient fund\")\n",
    "    def deposit(self):\n",
    "        n=int(input(\"enter the deposited amount\"))\n",
    "        self.bal+=n\n",
    "        print(\"transaction is success\")\n",
    "    def check_bal(self):\n",
    "        print(self.bal)\n",
    "geetha=SBI(\"geetha\",21,'geetha@gmail.com')\n",
    "priya=SBI(\"priya\",23,\"priya@gmail.com\")"
   ]
  },
  {
   "cell_type": "code",
   "execution_count": 37,
   "metadata": {},
   "outputs": [
    {
     "ename": "SyntaxError",
     "evalue": "(unicode error) 'unicodeescape' codec can't decode bytes in position 2-3: truncated \\UXXXXXXXX escape (2342345630.py, line 2)",
     "output_type": "error",
     "traceback": [
      "\u001b[1;36m  Cell \u001b[1;32mIn[37], line 2\u001b[1;36m\u001b[0m\n\u001b[1;33m    with open(\"C:\\Users\\PRATHYUSHA\\OneDrive\\Desktop\\python core\\python excel.csv\",'w') as file:\u001b[0m\n\u001b[1;37m                                                                                 ^\u001b[0m\n\u001b[1;31mSyntaxError\u001b[0m\u001b[1;31m:\u001b[0m (unicode error) 'unicodeescape' codec can't decode bytes in position 2-3: truncated \\UXXXXXXXX escape\n"
     ]
    }
   ],
   "source": [
    "import csv\n",
    "with open(\"C:\\Users\\PRATHYUSHA\\OneDrive\\Desktop\\python core\\python excel.csv\",'w') as file:\n",
    "    fieldnames=SBI\n",
    "    writer.writerow({fieldnames})"
   ]
  },
  {
   "cell_type": "code",
   "execution_count": 19,
   "metadata": {},
   "outputs": [
    {
     "data": {
      "text/plain": [
       "{'name': 'geetha',\n",
       " 'age': 21,\n",
       " 'email': 'geetha@gmail.com',\n",
       " 'acc_no': 841,\n",
       " 'bal': 0}"
      ]
     },
     "execution_count": 19,
     "metadata": {},
     "output_type": "execute_result"
    }
   ],
   "source": [
    "geetha.__dict__"
   ]
  },
  {
   "cell_type": "code",
   "execution_count": 20,
   "metadata": {},
   "outputs": [
    {
     "name": "stdout",
     "output_type": "stream",
     "text": [
      "insufficient fund\n"
     ]
    }
   ],
   "source": [
    "geetha.withdraw()"
   ]
  },
  {
   "cell_type": "code",
   "execution_count": 26,
   "metadata": {},
   "outputs": [
    {
     "name": "stdout",
     "output_type": "stream",
     "text": [
      "transaction is success\n"
     ]
    }
   ],
   "source": [
    "geetha.deposit()"
   ]
  },
  {
   "cell_type": "code",
   "execution_count": 27,
   "metadata": {},
   "outputs": [
    {
     "name": "stdout",
     "output_type": "stream",
     "text": [
      "40\n"
     ]
    }
   ],
   "source": [
    "geetha.check_bal()"
   ]
  },
  {
   "cell_type": "code",
   "execution_count": 17,
   "metadata": {},
   "outputs": [
    {
     "data": {
      "text/plain": [
       "{'name': 'priya',\n",
       " 'age': 23,\n",
       " 'email': 'priya@gmail.com',\n",
       " 'acc_no': 842,\n",
       " 'bal': 0}"
      ]
     },
     "execution_count": 17,
     "metadata": {},
     "output_type": "execute_result"
    }
   ],
   "source": [
    "priya.__dict__"
   ]
  },
  {
   "cell_type": "code",
   "execution_count": 6,
   "metadata": {},
   "outputs": [
    {
     "ename": "AttributeError",
     "evalue": "'Product' object has no attribute 'set_waranty'",
     "output_type": "error",
     "traceback": [
      "\u001b[1;31m---------------------------------------------------------------------------\u001b[0m",
      "\u001b[1;31mAttributeError\u001b[0m                            Traceback (most recent call last)",
      "Cell \u001b[1;32mIn[6], line 22\u001b[0m\n\u001b[0;32m     20\u001b[0m electonicobj \u001b[38;5;241m=\u001b[39mProduct(\u001b[38;5;124m\"\u001b[39m\u001b[38;5;124mTv\u001b[39m\u001b[38;5;124m\"\u001b[39m,\u001b[38;5;241m1000\u001b[39m,\u001b[38;5;241m500\u001b[39m,\u001b[38;5;241m3.4\u001b[39m)\n\u001b[0;32m     21\u001b[0m \u001b[38;5;66;03m# electonicobj.set_waranty(24)\u001b[39;00m\n\u001b[1;32m---> 22\u001b[0m \u001b[43melectonicobj\u001b[49m\u001b[38;5;241;43m.\u001b[39;49m\u001b[43mset_waranty\u001b[49m(\u001b[38;5;241m24\u001b[39m)\n\u001b[0;32m     23\u001b[0m \u001b[38;5;28mprint\u001b[39m(electonicobj\u001b[38;5;241m.\u001b[39mget_waranty())\n\u001b[0;32m     24\u001b[0m \u001b[38;5;66;03m# print(electonicobj.get_waranty())\u001b[39;00m\n",
      "\u001b[1;31mAttributeError\u001b[0m: 'Product' object has no attribute 'set_waranty'"
     ]
    }
   ],
   "source": [
    "class Product:\n",
    "    def __init__(self,name,price,deal_price,ratings):\n",
    "        self.name = name\n",
    "        self.price = price\n",
    "        self.deal_price = deal_price\n",
    "        self.ratings = ratings\n",
    "    def display_product_price(self):\n",
    "        print(\"{}\".format(self.price))\n",
    "class Electronicdevice(Product):\n",
    "    def set_waranty(self,waranty_in_months):\n",
    "        self.waranty_in_months = waranty_in_months\n",
    "    def get_waranty(self):\n",
    "        return self.waranty_in_months\n",
    "class Grocery_items(Product):\n",
    "    def set_expiry_details(self,expiry_date):\n",
    "        self.expiry_date = expiry_date\n",
    "    def get_expiry_details(self):\n",
    "        return self.expiry_date\n",
    "    \n",
    "electonicobj =Product(\"Tv\",1000,500,3.4)\n",
    "# electonicobj.set_waranty(24)\n",
    "electonicobj.set_waranty(24)\n",
    "print(electonicobj.get_waranty())\n",
    "# print(electonicobj.get_waranty())\n",
    "        "
   ]
  },
  {
   "cell_type": "code",
   "execution_count": 1,
   "metadata": {},
   "outputs": [
    {
     "ename": "",
     "evalue": "",
     "output_type": "error",
     "traceback": [
      "\u001b[1;31mThe Kernel crashed while executing code in the current cell or a previous cell. \n",
      "\u001b[1;31mPlease review the code in the cell(s) to identify a possible cause of the failure. \n",
      "\u001b[1;31mClick <a href='https://aka.ms/vscodeJupyterKernelCrash'>here</a> for more info. \n",
      "\u001b[1;31mView Jupyter <a href='command:jupyter.viewOutput'>log</a> for further details."
     ]
    }
   ],
   "source": [
    "class Order:\n",
    "    def __init__(self,delivery_speed,delivery_address):\n",
    "        self.items_in_cart = []\n",
    "        self.delivery_speed = delivery_speed\n",
    "        self.delivery_address = delivery_address\n",
    "    def add_item(self,product,quantity):\n",
    "        self.items_in_cart.append((product,quantity))\n",
    "    def display_order_details(self):\n",
    "        for product,quantity in self.items_in_cart:\n",
    "            product.display_product_details()\n",
    "            print(\"Quantity: {}\".format(quantity))\n",
    "\n",
    "class Product:\n",
    "    def __init__(self,name,price,deal_price,ratings):\n",
    "        self.name = name\n",
    "        self.price = price\n",
    "        self.deal_price = deal_price\n",
    "        self.ratings = ratings\n",
    "    def get_deal_price(self):\n",
    "        return self.deal_price\n",
    "    \n",
    "    def display_product_details(self):\n",
    "        print(\"{}{}\".format(self.name,self.price))\n",
    "        \n",
    "class Electronicdevice(Product):\n",
    "    def set_waranty(self,waranty_in_months):\n",
    "        self.waranty_in_months = waranty_in_months\n",
    "    def get_waranty(self):\n",
    "        return self.waranty_in_months\n",
    "    def display_product_details(self):\n",
    "        self.display_product_details()\n",
    "        print(\"waranty {} month\".format(self.waranty_in_months))\n",
    "        \n",
    "tv = Electronicdevice(\"TV\",10000,50000,3.5)\n",
    "order = Order(\"prine_delivery\",\"Hyderabad\")\n",
    "order.add_item(tv,1)\n",
    "order.display_order_details()\n",
    "        "
   ]
  },
  {
   "cell_type": "code",
   "execution_count": null,
   "metadata": {},
   "outputs": [],
   "source": []
  },
  {
   "cell_type": "code",
   "execution_count": null,
   "metadata": {},
   "outputs": [],
   "source": []
  },
  {
   "cell_type": "code",
   "execution_count": null,
   "metadata": {},
   "outputs": [
    {
     "ename": "",
     "evalue": "",
     "output_type": "error",
     "traceback": [
      "\u001b[1;31mThe Kernel crashed while executing code in the current cell or a previous cell. \n",
      "\u001b[1;31mPlease review the code in the cell(s) to identify a possible cause of the failure. \n",
      "\u001b[1;31mClick <a href='https://aka.ms/vscodeJupyterKernelCrash'>here</a> for more info. \n",
      "\u001b[1;31mView Jupyter <a href='command:jupyter.viewOutput'>log</a> for further details."
     ]
    }
   ],
   "source": [
    "class Order:\n",
    "    def __init__(self,delivery_speed,delivery_address):\n",
    "        self.items_in_cart = []\n",
    "        self.delivery_speed = delivery_speed\n",
    "        self.delivery_address = delivery_address\n",
    "    def add_item(self,product,quantity):\n",
    "        self.items_in_cart.append((product,quantity))\n",
    "    def display_order_details(self):\n",
    "        for product,quantity in self.items_in_cart:\n",
    "            product.display_product_details()\n",
    "            print(\"Quantity: {}\".format(quantity))\n",
    "\n",
    "class Product:\n",
    "    def __init__(self,name,price,deal_price,ratings):\n",
    "        self.name = name\n",
    "        self.price = price\n",
    "        self.deal_price = deal_price\n",
    "        self.ratings = ratings\n",
    "    def get_deal_price(self):\n",
    "        return self.deal_price\n",
    "    \n",
    "    def display_product_details(self):\n",
    "        print(\"{}{}\".format(self.name,self.price))\n",
    "        \n",
    "class Electronicdevice(Product):\n",
    "    def set_waranty(self,waranty_in_months):\n",
    "        self.waranty_in_months = waranty_in_months\n",
    "    def get_waranty(self):\n",
    "        return self.waranty_in_months\n",
    "    def display_product_details(self):\n",
    "        self.display_product_details()\n",
    "        print(\"waranty {} month\".format(self.waranty_in_months))\n",
    "        \n",
    "tv = Electronicdevice(\"TV\",10000,50000,3.5)\n",
    "order = Order(\"prine_delivery\",\"Hyderabad\")\n",
    "order.add_item(tv,1)\n",
    "order.display_order_details()\n",
    "        "
   ]
  },
  {
   "cell_type": "code",
   "execution_count": null,
   "metadata": {},
   "outputs": [],
   "source": [
    "2+3"
   ]
  }
 ],
 "metadata": {
  "kernelspec": {
   "display_name": "Python 3",
   "language": "python",
   "name": "python3"
  },
  "language_info": {
   "codemirror_mode": {
    "name": "ipython",
    "version": 3
   },
   "file_extension": ".py",
   "mimetype": "text/x-python",
   "name": "python",
   "nbconvert_exporter": "python",
   "pygments_lexer": "ipython3",
   "version": "3.10.8"
  },
  "orig_nbformat": 4
 },
 "nbformat": 4,
 "nbformat_minor": 2
}
