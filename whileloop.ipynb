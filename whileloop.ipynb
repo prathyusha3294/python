{
 "cells": [
  {
   "cell_type": "code",
   "execution_count": null,
   "metadata": {},
   "outputs": [],
   "source": []
  },
  {
   "cell_type": "code",
   "execution_count": 5,
   "metadata": {},
   "outputs": [
    {
     "name": "stdout",
     "output_type": "stream",
     "text": [
      "1,2,3,4,5,6,7,8,9,10,"
     ]
    }
   ],
   "source": [
    "#2) WAP to print the number from 1 to 10 by using a while loop.\n",
    "start=1\n",
    "end=10\n",
    "while start<=end:\n",
    "    print(start,end=\",\")\n",
    "    start+=1\n"
   ]
  },
  {
   "cell_type": "code",
   "execution_count": 6,
   "metadata": {},
   "outputs": [
    {
     "name": "stdout",
     "output_type": "stream",
     "text": [
      "1,2,3,4,5,6,7,8,9,10,11,12,13,14,15,16,17,18,19,20,"
     ]
    }
   ],
   "source": [
    "#3. WAP to print the natural number until 1 to nth times by using a while loop.\n",
    "start=1\n",
    "n=20\n",
    "while start<=n:\n",
    "    print(start,end=\",\")\n",
    "    start+=1"
   ]
  },
  {
   "cell_type": "code",
   "execution_count": 13,
   "metadata": {},
   "outputs": [
    {
     "name": "stdout",
     "output_type": "stream",
     "text": [
      "20,19,18,17,16,15,14,13,12,11,10,9,8,7,6,5,4,3,2,1,0,"
     ]
    }
   ],
   "source": [
    "#4)WAP to print the reverse of the natural number nth to 0 times by using a while loop.\n",
    "start=0\n",
    "n=20\n",
    "while n>=start:\n",
    "    print(n,end=\",\")\n",
    "    n-=1"
   ]
  },
  {
   "cell_type": "code",
   "execution_count": 22,
   "metadata": {},
   "outputs": [
    {
     "name": "stdout",
     "output_type": "stream",
     "text": [
      "0,1,2,3,4,5,6,7,8,9,10,"
     ]
    }
   ],
   "source": [
    "#5)WAP to print the whole number until nth times by using a while loop.\n",
    "start=0\n",
    "end=10\n",
    "while start<=end:\n",
    "    print(start,end=\",\")\n",
    "    start+=1"
   ]
  },
  {
   "cell_type": "code",
   "execution_count": 23,
   "metadata": {},
   "outputs": [
    {
     "name": "stdout",
     "output_type": "stream",
     "text": [
      "20,19,18,17,16,15,14,13,12,11,10,9,8,7,6,5,4,3,2,1,0,"
     ]
    }
   ],
   "source": [
    "#6)WAP to print the reverse of the whole number until nth times by using a while loop.\n",
    "start=0\n",
    "n=20\n",
    "while n>=start:\n",
    "    print(n,end=\",\")\n",
    "    n-=1"
   ]
  },
  {
   "cell_type": "code",
   "execution_count": 30,
   "metadata": {},
   "outputs": [
    {
     "name": "stdout",
     "output_type": "stream",
     "text": [
      "0,2,4,6,8,10,12,14,16,18,20,"
     ]
    }
   ],
   "source": [
    "#7)WAP to print the even number until nth times by using a while loop.\n",
    "start=0\n",
    "end=20\n",
    "while start<=end:\n",
    "    if start%2==0:\n",
    "        print(start,end=\",\")\n",
    "    start+=1"
   ]
  },
  {
   "cell_type": "code",
   "execution_count": 32,
   "metadata": {},
   "outputs": [
    {
     "name": "stdout",
     "output_type": "stream",
     "text": [
      "20,18,16,14,12,10,8,6,4,2,0,"
     ]
    }
   ],
   "source": [
    "#8)WAP to print reserve the even number until nth times by using a while loop.\n",
    "start=20\n",
    "end=0\n",
    "while start>=end:\n",
    "    if start%2==0:\n",
    "        print(start,end=\",\")\n",
    "    start-=1"
   ]
  },
  {
   "cell_type": "code",
   "execution_count": 33,
   "metadata": {},
   "outputs": [
    {
     "name": "stdout",
     "output_type": "stream",
     "text": [
      "1,3,5,7,9,11,13,15,17,19,"
     ]
    }
   ],
   "source": [
    "#9)WAP to print the odd number until nth times by using a while loop.\n",
    "start=0\n",
    "end=20\n",
    "while start<=end:\n",
    "    if start%2!=0:\n",
    "        print(start,end=\",\")\n",
    "    start+=1"
   ]
  },
  {
   "cell_type": "code",
   "execution_count": 34,
   "metadata": {},
   "outputs": [
    {
     "name": "stdout",
     "output_type": "stream",
     "text": [
      "19,17,15,13,11,9,7,5,3,1,"
     ]
    }
   ],
   "source": [
    "#10)WAP to print reserve the odd number until nth times by using a while loop.\n",
    "start=20\n",
    "end=0\n",
    "while start>=end:\n",
    "    if start%2!=0:\n",
    "        print(start,end=\",\")\n",
    "    start-=1"
   ]
  },
  {
   "cell_type": "code",
   "execution_count": 37,
   "metadata": {},
   "outputs": [
    {
     "name": "stdout",
     "output_type": "stream",
     "text": [
      "5 * 1 = 5\n",
      "5 * 2 = 10\n",
      "5 * 3 = 15\n",
      "5 * 4 = 20\n",
      "5 * 5 = 25\n",
      "5 * 6 = 30\n",
      "5 * 7 = 35\n",
      "5 * 8 = 40\n",
      "5 * 9 = 45\n",
      "5 * 10 = 50\n",
      "5 * 11 = 55\n",
      "5 * 12 = 60\n",
      "5 * 13 = 65\n",
      "5 * 14 = 70\n",
      "5 * 15 = 75\n",
      "5 * 16 = 80\n",
      "5 * 17 = 85\n",
      "5 * 18 = 90\n",
      "5 * 19 = 95\n",
      "5 * 20 = 100\n"
     ]
    }
   ],
   "source": [
    "#11. WAP to print the nth table 1 to 20, format ==> 5 * 1 = 5 to 5 * 20 = 100\n",
    "start=1\n",
    "end=20\n",
    "n=5\n",
    "while start<=end:\n",
    "    print(f\"{n} * {start} = {n * start}\")\n",
    "    start+=1"
   ]
  },
  {
   "cell_type": "code",
   "execution_count": 40,
   "metadata": {},
   "outputs": [
    {
     "name": "stdout",
     "output_type": "stream",
     "text": [
      "5 * 20 = 100\n",
      "5 * 19 = 95\n",
      "5 * 18 = 90\n",
      "5 * 17 = 85\n",
      "5 * 16 = 80\n",
      "5 * 15 = 75\n",
      "5 * 14 = 70\n",
      "5 * 13 = 65\n",
      "5 * 12 = 60\n",
      "5 * 11 = 55\n",
      "5 * 10 = 50\n",
      "5 * 9 = 45\n",
      "5 * 8 = 40\n",
      "5 * 7 = 35\n",
      "5 * 6 = 30\n",
      "5 * 5 = 25\n",
      "5 * 4 = 20\n",
      "5 * 3 = 15\n",
      "5 * 2 = 10\n",
      "5 * 1 = 5\n"
     ]
    }
   ],
   "source": [
    "#12. WAP to print the nth table 20 to 1, format ==> 5 * 20 = 100 to 5 * 1 = 5\n",
    "start=20\n",
    "end=1\n",
    "n=5\n",
    "while start>=end:\n",
    "    print(f\"{n} * {start} = {n * start}\")\n",
    "    start-=1\n"
   ]
  },
  {
   "cell_type": "code",
   "execution_count": 41,
   "metadata": {},
   "outputs": [
    {
     "name": "stdout",
     "output_type": "stream",
     "text": [
      "27\n",
      "30\n",
      "33\n",
      "36\n",
      "39\n",
      "42\n",
      "45\n",
      "48\n",
      "51\n",
      "54\n",
      "57\n",
      "60\n",
      "63\n",
      "66\n"
     ]
    }
   ],
   "source": [
    "#13. WAP to print the numbers which are divisible by 3 from 25 to 66.\n",
    "start=25\n",
    "end=66\n",
    "while start<=end:\n",
    "    if start%3==0:\n",
    "        print(start)\n",
    "    start+=1"
   ]
  },
  {
   "cell_type": "code",
   "execution_count": 42,
   "metadata": {},
   "outputs": [
    {
     "name": "stdout",
     "output_type": "stream",
     "text": [
      "15\n",
      "30\n",
      "45\n",
      "60\n",
      "75\n"
     ]
    }
   ],
   "source": [
    "#14. WAP to print the numbers which are divisible by 3 and 5 from 15 to 76.\n",
    "start=15\n",
    "end=76\n",
    "while start<=end:\n",
    "    if start%3==0 and start%5==0:\n",
    "        print(start)\n",
    "    start+=1"
   ]
  },
  {
   "cell_type": "code",
   "execution_count": 43,
   "metadata": {},
   "outputs": [
    {
     "name": "stdout",
     "output_type": "stream",
     "text": [
      "70\n",
      "35\n"
     ]
    }
   ],
   "source": [
    "#15. WAP to print the numbers which are divisible by 5 and 7 from 77 to 22.\n",
    "start=77\n",
    "end=22\n",
    "while start>=end:\n",
    "    if start%5==0 and start%7==0:\n",
    "        print(start)\n",
    "    start-=1"
   ]
  },
  {
   "cell_type": "code",
   "execution_count": 44,
   "metadata": {},
   "outputs": [
    {
     "name": "stdout",
     "output_type": "stream",
     "text": [
      "love you\n",
      "hate you\n",
      "love you\n",
      "love you\n",
      "hate you\n",
      "love you\n",
      "love you\n",
      "hate you\n",
      "i like you\n",
      "love you\n",
      "hate you\n",
      "love you\n",
      "love you\n",
      "hate you\n",
      "love you\n",
      "love you\n",
      "hate you\n",
      "i like you\n"
     ]
    }
   ],
   "source": [
    "#16. WAP to print the ”love you” if value is divisible by 3, or print “hate you” value is\n",
    "#divisible by 5, to print “i like you” if divisible by 3 and 5, from 1 to 30.\n",
    "start=1\n",
    "end=30\n",
    "while start<=end:\n",
    "    if start%3==0:\n",
    "        print(\"love you\")\n",
    "    if start%5==0:\n",
    "        print(\"hate you\")\n",
    "    if start%3==0 and start%5==0:\n",
    "        print(\"i like you\")\n",
    "    start+=1"
   ]
  },
  {
   "cell_type": "code",
   "execution_count": 1,
   "metadata": {},
   "outputs": [
    {
     "name": "stdout",
     "output_type": "stream",
     "text": [
      "55\n"
     ]
    }
   ],
   "source": [
    "#17. WAP to print sum of the 1 to nth natural numbers.\n",
    "start=1\n",
    "n=10\n",
    "sum_of_numbers = 0\n",
    "while start <= n:\n",
    "    sum_of_numbers += start\n",
    "    start += 1\n",
    "print(sum_of_numbers)\n"
   ]
  },
  {
   "cell_type": "code",
   "execution_count": 9,
   "metadata": {},
   "outputs": [
    {
     "name": "stdout",
     "output_type": "stream",
     "text": [
      "sum of 1 to 20 even numberes: 110\n"
     ]
    }
   ],
   "source": [
    "#18. WAP to print sum of the even numbers 1 to 20 numbers.\n",
    "start=1\n",
    "end=20\n",
    "sum_of_even_nubers = 0\n",
    "while start<=end:\n",
    "    if start%2==0:\n",
    "        sum_of_even_nubers += start\n",
    "    start+=1\n",
    "print(\"sum of 1 to 20 even numberes:\",sum_of_even_nubers)"
   ]
  },
  {
   "cell_type": "code",
   "execution_count": 3,
   "metadata": {},
   "outputs": [
    {
     "name": "stdout",
     "output_type": "stream",
     "text": [
      "720\n"
     ]
    }
   ],
   "source": [
    "#19. WAP to print products of the 1 to 6 numbers.\n",
    "start=1\n",
    "end=6\n",
    "product=1\n",
    "while start<=end:\n",
    "    product*=start\n",
    "    start+=1\n",
    "print(product)\n"
   ]
  },
  {
   "cell_type": "code",
   "execution_count": 4,
   "metadata": {},
   "outputs": [
    {
     "name": "stdout",
     "output_type": "stream",
     "text": [
      "15\n"
     ]
    }
   ],
   "source": [
    "#20. WAP to count the no of odd values from 1 to 30 numbers.\n",
    "start=1\n",
    "end=30\n",
    "count=0\n",
    "while start<=end:\n",
    "    if start%2==0:\n",
    "        count+=1\n",
    "    start+=1\n",
    "print(count)\n"
   ]
  }
 ],
 "metadata": {
  "kernelspec": {
   "display_name": "base",
   "language": "python",
   "name": "python3"
  },
  "language_info": {
   "codemirror_mode": {
    "name": "ipython",
    "version": 3
   },
   "file_extension": ".py",
   "mimetype": "text/x-python",
   "name": "python",
   "nbconvert_exporter": "python",
   "pygments_lexer": "ipython3",
   "version": "3.10.8"
  },
  "orig_nbformat": 4
 },
 "nbformat": 4,
 "nbformat_minor": 2
}
