{
 "cells": [
  {
   "cell_type": "code",
   "execution_count": 3,
   "metadata": {},
   "outputs": [
    {
     "data": {
      "text/plain": [
       "'hello world'"
      ]
     },
     "execution_count": 3,
     "metadata": {},
     "output_type": "execute_result"
    }
   ],
   "source": [
    "#1.Write a statement(WAS) to print “Hello World” by using shell\n",
    "\"hello world\""
   ]
  },
  {
   "cell_type": "code",
   "execution_count": 3,
   "metadata": {},
   "outputs": [
    {
     "name": "stdout",
     "output_type": "stream",
     "text": [
      "hello world\n"
     ]
    }
   ],
   "source": [
    "#2)WAS to print “Hello world” by using python print function\n",
    "print(\"hello world\")"
   ]
  },
  {
   "cell_type": "code",
   "execution_count": 4,
   "metadata": {},
   "outputs": [
    {
     "data": {
      "text/plain": [
       "50"
      ]
     },
     "execution_count": 4,
     "metadata": {},
     "output_type": "execute_result"
    }
   ],
   "source": [
    "#3)WAS to initialize variable and value as 50.\n",
    "a=50\n",
    "a"
   ]
  },
  {
   "cell_type": "code",
   "execution_count": 5,
   "metadata": {},
   "outputs": [
    {
     "name": "stdout",
     "output_type": "stream",
     "text": [
      "150 120 250\n"
     ]
    }
   ],
   "source": [
    "#4.WAS to initialize multivariable value are 150,120,250(take your own variable names)\n",
    "a,b,c=150,120,250\n",
    "print(a,b,c)"
   ]
  },
  {
   "cell_type": "code",
   "execution_count": 6,
   "metadata": {},
   "outputs": [
    {
     "name": "stdout",
     "output_type": "stream",
     "text": [
      "<class 'int'>\n"
     ]
    }
   ],
   "source": [
    "#5)WAS to print the type of the data in the given value. \n",
    "a=10\n",
    "print(type(a))"
   ]
  },
  {
   "cell_type": "code",
   "execution_count": 7,
   "metadata": {},
   "outputs": [
    {
     "name": "stdout",
     "output_type": "stream",
     "text": [
      "2193742299664\n"
     ]
    }
   ],
   "source": [
    "#6)WAS to print the address of the memory block in given value.\n",
    "a=10\n",
    "print(id(a))"
   ]
  },
  {
   "cell_type": "code",
   "execution_count": 3,
   "metadata": {},
   "outputs": [
    {
     "name": "stdout",
     "output_type": "stream",
     "text": [
      "alice 21\n"
     ]
    }
   ],
   "source": [
    "#7)WAS to print your details, first store your details, extract the values and display it.\n",
    "name=\"alice\"\n",
    "age=21\n",
    "print(name,age)"
   ]
  },
  {
   "cell_type": "code",
   "execution_count": 18,
   "metadata": {},
   "outputs": [
    {
     "name": "stdout",
     "output_type": "stream",
     "text": [
      "30 20\n"
     ]
    }
   ],
   "source": [
    "#8)WAS to swap the two values. With a temp variable.\n",
    "a=20\n",
    "b=30\n",
    "temp = a\n",
    "a = b\n",
    "b = temp\n",
    "print(a,b)\n"
   ]
  },
  {
   "cell_type": "code",
   "execution_count": 21,
   "metadata": {},
   "outputs": [
    {
     "name": "stdout",
     "output_type": "stream",
     "text": [
      "20 10\n"
     ]
    }
   ],
   "source": [
    "#9)WAS to swap the two values without temp variable\n",
    "a=10\n",
    "b=20\n",
    "a,b=b,a\n",
    "print(a,b)"
   ]
  },
  {
   "cell_type": "code",
   "execution_count": 23,
   "metadata": {},
   "outputs": [
    {
     "name": "stdout",
     "output_type": "stream",
     "text": [
      "20\n"
     ]
    }
   ],
   "source": [
    "#10)WAS to initialize a value and print the value, after print then reinitialize the new value to the existing variable and display the value.\n",
    "a=10\n",
    "a=20\n",
    "print(a)"
   ]
  },
  {
   "cell_type": "code",
   "execution_count": 27,
   "metadata": {},
   "outputs": [
    {
     "name": "stdout",
     "output_type": "stream",
     "text": [
      "['1', '0']\n"
     ]
    }
   ],
   "source": [
    "#11)WAS to convert single to multi value data type\n",
    "#I/p ⇒ a=10\n",
    "#o/p ⇒ [‘1’,’0’]\n",
    "a=10\n",
    "b=(str(a))\n",
    "print(list(b))\n"
   ]
  },
  {
   "cell_type": "code",
   "execution_count": 29,
   "metadata": {},
   "outputs": [
    {
     "name": "stdout",
     "output_type": "stream",
     "text": [
      "1030\n"
     ]
    }
   ],
   "source": [
    "#12)WAS to concat the two multi value data types(str , list, tuple, dict).\n",
    "a='10'\n",
    "b='30' \n",
    "print(a+b)\n"
   ]
  },
  {
   "cell_type": "code",
   "execution_count": 30,
   "metadata": {},
   "outputs": [
    {
     "name": "stdout",
     "output_type": "stream",
     "text": [
      "5\n"
     ]
    }
   ],
   "source": [
    "#13)WAC to perform  the length of the collection.\n",
    "a=\"hello\"\n",
    "print(len(a))"
   ]
  },
  {
   "cell_type": "code",
   "execution_count": 2,
   "metadata": {},
   "outputs": [
    {
     "name": "stdout",
     "output_type": "stream",
     "text": [
      "10\n"
     ]
    }
   ],
   "source": [
    "#14)WAC to find out the middle value of the given collection.\n",
    "a='helloworld'(len(a))"
   ]
  },
  {
   "cell_type": "code",
   "execution_count": 3,
   "metadata": {},
   "outputs": [
    {
     "name": "stdout",
     "output_type": "stream",
     "text": [
      "helloworld\n"
     ]
    }
   ],
   "source": [
    "#15)WAS to concat the new string into the starting of the given string.\n",
    "a=\"world\"\n",
    "b='hello'+a\n",
    "print(b)"
   ]
  },
  {
   "cell_type": "code",
   "execution_count": 4,
   "metadata": {},
   "outputs": [
    {
     "name": "stdout",
     "output_type": "stream",
     "text": [
      "helloworld\n"
     ]
    }
   ],
   "source": [
    "#16)WAS to concat the new string into the ending of the given string.\n",
    "a=\"hello\"\n",
    "b=a+\"world\"\n",
    "print(b)"
   ]
  },
  {
   "cell_type": "code",
   "execution_count": 3,
   "metadata": {},
   "outputs": [
    {
     "name": "stdout",
     "output_type": "stream",
     "text": [
      "11\n",
      "5\n",
      "Hello New World\n"
     ]
    }
   ],
   "source": [
    "#17)WAS to concat the new string into the middle of the given string.\n",
    "given_string = \"Hello World\"\n",
    "new_string = \" New\"\n",
    "middle_index = len(given_string) // 2\n",
    "print(middle_index)\n",
    "result = given_string[:middle_index] + new_string + given_string[middle_index:]\n",
    "print(result)\n"
   ]
  },
  {
   "cell_type": "code",
   "execution_count": 1,
   "metadata": {},
   "outputs": [
    {
     "name": "stdout",
     "output_type": "stream",
     "text": [
      "hewlo\n"
     ]
    }
   ],
   "source": [
    "#18)WAS to replace the duplicate character into a new character of the given string.\n",
    "a = 'hello'\n",
    "a = a[:2] + 'w' + a[3:]\n",
    "print(a)"
   ]
  },
  {
   "cell_type": "code",
   "execution_count": 1,
   "metadata": {},
   "outputs": [
    {
     "name": "stdout",
     "output_type": "stream",
     "text": [
      "helo\n"
     ]
    }
   ],
   "source": [
    "#19)WAS to delete the specific character in the given string.\n",
    "a = 'hello'\n",
    "index_to_remove = 2\n",
    "a = a[:index_to_remove] + a[index_to_remove + 1:]\n",
    "print(a)\n"
   ]
  },
  {
   "cell_type": "code",
   "execution_count": 3,
   "metadata": {},
   "outputs": [
    {
     "name": "stdout",
     "output_type": "stream",
     "text": [
      "Hello, beautiful ul \n"
     ]
    }
   ],
   "source": [
    "#20)WAS to concat the new string into the specific position of the given string.\n",
    "a = \"Hello\"\n",
    "b = \"beautiful \"\n",
    "result= a[:7] + b + b[7:]\n",
    "print(result)"
   ]
  },
  {
   "cell_type": "code",
   "execution_count": 1,
   "metadata": {},
   "outputs": [
    {
     "name": "stdout",
     "output_type": "stream",
     "text": [
      "HelloHow are you\n"
     ]
    }
   ],
   "source": [
    "#21.WAS to concat the new value into the starting of the given list.\n",
    "a=\"Hello\"\n",
    "b=\"How are you\"\n",
    "result=a\n",
    "print(a+b)"
   ]
  },
  {
   "cell_type": "code",
   "execution_count": 2,
   "metadata": {},
   "outputs": [
    {
     "name": "stdout",
     "output_type": "stream",
     "text": [
      "hihello\n"
     ]
    }
   ],
   "source": [
    "#22)WAS to concat the new value into the ending of the given list.\n",
    "a=\"hi\"\n",
    "print(a+\"hello\")\n"
   ]
  },
  {
   "cell_type": "code",
   "execution_count": 3,
   "metadata": {},
   "outputs": [
    {
     "name": "stdout",
     "output_type": "stream",
     "text": [
      "[10, 20, 30, 40, 50, 60, 70]\n"
     ]
    }
   ],
   "source": [
    "#23)WAS to concat the new value into the middle of the given list.\n",
    "a = [10,20,30]\n",
    "b = [60,70]\n",
    "print(a + [40,50] + b)"
   ]
  },
  {
   "cell_type": "code",
   "execution_count": 7,
   "metadata": {},
   "outputs": [
    {
     "name": "stdout",
     "output_type": "stream",
     "text": [
      "[10, 20, 30, 40, 50, 60]\n"
     ]
    }
   ],
   "source": [
    "#24)WAS to modify the new value into the specific position of the given list.\n",
    "a = [10,20,30,40,90,50]\n",
    "a[4:5+1:1] = [50,60]\n",
    "print(a)"
   ]
  },
  {
   "cell_type": "code",
   "execution_count": 9,
   "metadata": {},
   "outputs": [
    {
     "name": "stdout",
     "output_type": "stream",
     "text": [
      "[1, 20, 30, 40, 90, 50]\n"
     ]
    }
   ],
   "source": [
    "#25)WAS to modify the new value into the starting of the given list.\n",
    "a = [10,20,30,40,90,50]\n",
    "a[0] =1\n",
    "print(a)"
   ]
  },
  {
   "cell_type": "code",
   "execution_count": 6,
   "metadata": {},
   "outputs": [
    {
     "name": "stdout",
     "output_type": "stream",
     "text": [
      "0234\n"
     ]
    }
   ],
   "source": [
    "a = \"1234\"\n",
    "b = \"0\"\n",
    "new_string = b + a[1:]\n",
    "print(new_string)"
   ]
  },
  {
   "cell_type": "code",
   "execution_count": 11,
   "metadata": {},
   "outputs": [
    {
     "ename": "ValueError",
     "evalue": "dictionary update sequence element #0 has length 1; 2 is required",
     "output_type": "error",
     "traceback": [
      "\u001b[1;31m---------------------------------------------------------------------------\u001b[0m",
      "\u001b[1;31mValueError\u001b[0m                                Traceback (most recent call last)",
      "Cell \u001b[1;32mIn[11], line 2\u001b[0m\n\u001b[0;32m      1\u001b[0m s \u001b[38;5;241m=\u001b[39m \u001b[38;5;124m\"\u001b[39m\u001b[38;5;124mad\u001b[39m\u001b[38;5;124m\"\u001b[39m\n\u001b[1;32m----> 2\u001b[0m \u001b[38;5;28mprint\u001b[39m(\u001b[38;5;28;43mdict\u001b[39;49m\u001b[43m(\u001b[49m\u001b[43ms\u001b[49m\u001b[43m)\u001b[49m)\n",
      "\u001b[1;31mValueError\u001b[0m: dictionary update sequence element #0 has length 1; 2 is required"
     ]
    }
   ],
   "source": [
    "s = \"ad\"\n",
    "print(dict(s))"
   ]
  },
  {
   "cell_type": "code",
   "execution_count": 10,
   "metadata": {},
   "outputs": [
    {
     "name": "stdout",
     "output_type": "stream",
     "text": [
      "[10, 20, 30, 40, 90, 5]\n"
     ]
    }
   ],
   "source": [
    "#26)WAS to modify the new value into the ending of the given list.\n",
    "a = [10,20,30,40,90,50]\n",
    "a[-1] = 5\n",
    "print(a)"
   ]
  },
  {
   "cell_type": "code",
   "execution_count": 14,
   "metadata": {},
   "outputs": [
    {
     "name": "stdout",
     "output_type": "stream",
     "text": [
      "[10, 20, 30, 3, 90, 50, 60]\n"
     ]
    }
   ],
   "source": [
    "#27)WAS to modify the new value into the middle of the given  list.\n",
    "a = [10,20,30,40,90,50,60]\n",
    "b = len(a)//2\n",
    "a[b] = 3\n",
    "print(a)"
   ]
  },
  {
   "cell_type": "code",
   "execution_count": 15,
   "metadata": {},
   "outputs": [
    {
     "name": "stdout",
     "output_type": "stream",
     "text": [
      "[1, 2, 3, 4, 90, 50]\n"
     ]
    }
   ],
   "source": [
    "#28)WAS to modify the first 4 positions values into a given list.\n",
    "a = [10,20,30,40,90,50]\n",
    "a[0:3+1:1] = [1,2,3,4]\n",
    "print(a)"
   ]
  },
  {
   "cell_type": "code",
   "execution_count": 17,
   "metadata": {},
   "outputs": [
    {
     "name": "stdout",
     "output_type": "stream",
     "text": [
      "[10, 20, 30, 90, 50]\n"
     ]
    }
   ],
   "source": [
    "#29)WAS to delete the value in the specific position of the given list.\n",
    "a = [10,20,30,40,90,50]\n",
    "del a[3]     #40 will be deleted\n",
    "print(a)"
   ]
  },
  {
   "cell_type": "code",
   "execution_count": 18,
   "metadata": {},
   "outputs": [
    {
     "name": "stdout",
     "output_type": "stream",
     "text": [
      "[10, 20, 30, 40, 90]\n"
     ]
    }
   ],
   "source": [
    "#30)WAS to delete the new value into the ending of the list.\n",
    "a = [10,20,30,40,90,50]\n",
    "del a[-1]     \n",
    "print(a)"
   ]
  },
  {
   "cell_type": "code",
   "execution_count": 21,
   "metadata": {},
   "outputs": [
    {
     "name": "stdout",
     "output_type": "stream",
     "text": [
      "[10, 20, 30, 90, 50]\n"
     ]
    }
   ],
   "source": [
    "#31)WAS to delete the new value into the middle of the list.\n",
    "a = [10,20,30,40,90,50]\n",
    "b = len(a)//2\n",
    "del a[b]    \n",
    "print(a)"
   ]
  },
  {
   "cell_type": "code",
   "execution_count": 22,
   "metadata": {},
   "outputs": [
    {
     "name": "stdout",
     "output_type": "stream",
     "text": [
      "(-1, 0, 1, 2, 3, 4, 5)\n"
     ]
    }
   ],
   "source": [
    "#32)WAS to concat the new value into starting of the tuple.\n",
    "a = (1,2,3,4,5)\n",
    "b = (-1,0) + a\n",
    "print(b)"
   ]
  },
  {
   "cell_type": "code",
   "execution_count": 25,
   "metadata": {},
   "outputs": [
    {
     "name": "stdout",
     "output_type": "stream",
     "text": [
      "(1, 2, 3, 100, 200, 4, 5, 6)\n"
     ]
    }
   ],
   "source": [
    "#33)WAS to concat the new value into the middle of the tuple.\n",
    "a = (1,2,3,4,5,6)\n",
    "b = len(a)//2\n",
    "new_values = (100,200)\n",
    "a = a[:b] + new_values + a[b:]\n",
    "print(a)"
   ]
  },
  {
   "cell_type": "code",
   "execution_count": 29,
   "metadata": {},
   "outputs": [
    {
     "name": "stdout",
     "output_type": "stream",
     "text": [
      "(1, 2, 3, 4, 5, 6, 7)\n"
     ]
    }
   ],
   "source": [
    "#34)WAS to concat the new value into the ending of the tuple.\n",
    "a = (1,2,3,4,5,6)\n",
    "b = (7,) \n",
    "print(a+b)"
   ]
  },
  {
   "cell_type": "code",
   "execution_count": 33,
   "metadata": {},
   "outputs": [
    {
     "name": "stdout",
     "output_type": "stream",
     "text": [
      "{1, 2, 3, 4, 5}\n"
     ]
    }
   ],
   "source": [
    "#35)WAS to concat the new value into the set.\n",
    "a = {1, 2, 3, 4}\n",
    "new_value = {5}\n",
    "a = a | new_value\n",
    "print(a)\n"
   ]
  },
  {
   "cell_type": "code",
   "execution_count": null,
   "metadata": {},
   "outputs": [],
   "source": [
    "#36)WAS to concat the new key and value into the dict.\n"
   ]
  },
  {
   "cell_type": "code",
   "execution_count": 35,
   "metadata": {},
   "outputs": [
    {
     "name": "stdout",
     "output_type": "stream",
     "text": [
      "{'b': 2, 'c': 3}\n"
     ]
    }
   ],
   "source": [
    "#37)WAS to delete the specific key and value in the given dict.\n",
    "a = {'a':1,'b':2,'c':3}\n",
    "del a['a']\n",
    "print(a)"
   ]
  },
  {
   "cell_type": "code",
   "execution_count": null,
   "metadata": {},
   "outputs": [],
   "source": [
    "#38)WAS to delete the set value."
   ]
  },
  {
   "cell_type": "code",
   "execution_count": 37,
   "metadata": {},
   "outputs": [
    {
     "name": "stdout",
     "output_type": "stream",
     "text": [
      "{'a': 9, 'b': 2, 'c': 3}\n"
     ]
    }
   ],
   "source": [
    "#39)WAS to modify the specific value in the given dict.\n",
    "a = {'a':1,'b':2,'c':3}\n",
    "a['a'] = 9\n",
    "print(a)"
   ]
  },
  {
   "cell_type": "code",
   "execution_count": 1,
   "metadata": {},
   "outputs": [
    {
     "name": "stdout",
     "output_type": "stream",
     "text": [
      "[100, 200, 300, 400, 500, 600, 700, 800]\n"
     ]
    }
   ],
   "source": [
    "#40)WAS to concat the list value and tuple value by using type casting.\n",
    "a = [100, 200, 300, 400]  # Define the list\n",
    "b = (500, 600, 700, 800)  # Define the tuple\n",
    "\n",
    "# Convert tuple to list\n",
    "b_as_list = list(b)\n",
    "\n",
    "# Concatenate the lists\n",
    "c = a + b_as_list\n",
    "\n",
    "# Print the concatenated list\n",
    "print(c)\n",
    "\n"
   ]
  },
  {
   "cell_type": "code",
   "execution_count": 2,
   "metadata": {},
   "outputs": [
    {
     "name": "stdout",
     "output_type": "stream",
     "text": [
      "[1, 2, 3, 4, 5, 6]\n"
     ]
    }
   ],
   "source": [
    "#41)WAS to concat the list value and tuple value without using type casting\n",
    "list_val = [1, 2, 3]\n",
    "tuple_val = (4, 5, 6)\n",
    "\n",
    "# Combine elements in a new list\n",
    "combined = [*list_val, *tuple_val]\n",
    "\n",
    "print(combined) "
   ]
  },
  {
   "cell_type": "code",
   "execution_count": 4,
   "metadata": {},
   "outputs": [
    {
     "name": "stdout",
     "output_type": "stream",
     "text": [
      "divisible by 3\n"
     ]
    }
   ],
   "source": [
    "#42)WAC to the given number is divisible by 3.\n",
    "a = 30\n",
    "if a%3 == 0:\n",
    "    print(\"divisible by 3\")"
   ]
  },
  {
   "cell_type": "code",
   "execution_count": 5,
   "metadata": {},
   "outputs": [
    {
     "name": "stdout",
     "output_type": "stream",
     "text": [
      "divisible by 6 and 12\n"
     ]
    }
   ],
   "source": [
    "#43)WAC to the given number is divisible by 2 and 6. \n",
    "a = 12\n",
    "if a%2 == 0 and a%6 == 0:\n",
    "    print(\"divisible by 6 and 12\")"
   ]
  },
  {
   "cell_type": "code",
   "execution_count": 7,
   "metadata": {},
   "outputs": [
    {
     "name": "stdout",
     "output_type": "stream",
     "text": [
      "last digit divisible by 3\n"
     ]
    }
   ],
   "source": [
    "#44)WAC to the given number, the last digit is divisible by 3. (don&#39;t use typecasting)\n",
    "a = 39\n",
    "b = str(a)\n",
    "c = b[-1]\n",
    "d = int(c)\n",
    "if d%3 == 0:\n",
    "    print(\"last digit divisible by 3\")"
   ]
  },
  {
   "cell_type": "code",
   "execution_count": null,
   "metadata": {},
   "outputs": [],
   "source": [
    "#45)WAC to the last digit of a given number is divisible by 3.(use typecasting)\n",
    "a = 39\n",
    "b = a%10\n",
    "if b%3 == 0:\n",
    "    print(\"last digit divisible by 3\")"
   ]
  },
  {
   "cell_type": "code",
   "execution_count": 8,
   "metadata": {},
   "outputs": [
    {
     "name": "stdout",
     "output_type": "stream",
     "text": [
      "given value is greater than 150\n"
     ]
    }
   ],
   "source": [
    "#46)WAC to the given number is greater than 150.\n",
    "a = 159 \n",
    "if a>150:\n",
    "    print(\"given value is greater than 150\")"
   ]
  },
  {
   "cell_type": "code",
   "execution_count": 9,
   "metadata": {},
   "outputs": [
    {
     "name": "stdout",
     "output_type": "stream",
     "text": [
      "given value is greater than or equal to 100\n"
     ]
    }
   ],
   "source": [
    "#47)WAC to the given number is greater than or equal to 100.\n",
    "a = 100\n",
    "if a>=100:\n",
    "    print(\"given value is greater than or equal to 100\")"
   ]
  },
  {
   "cell_type": "code",
   "execution_count": 11,
   "metadata": {},
   "outputs": [
    {
     "name": "stdout",
     "output_type": "stream",
     "text": [
      "given value is less than 150\n"
     ]
    }
   ],
   "source": [
    "#48)WAC to the given number is less than 150, print the result.\n",
    "a = 149\n",
    "if a<150:\n",
    "    print(\"given value is less than 150\")"
   ]
  },
  {
   "cell_type": "code",
   "execution_count": 12,
   "metadata": {},
   "outputs": [
    {
     "name": "stdout",
     "output_type": "stream",
     "text": [
      "given value is less than or equal to 100\n"
     ]
    }
   ],
   "source": [
    "#49)WAC to the given number is less than or equal to 100.\n",
    "a = 100\n",
    "if a<=100:\n",
    "    print(\"given value is less than or equal to 100\")"
   ]
  },
  {
   "cell_type": "code",
   "execution_count": 13,
   "metadata": {},
   "outputs": [
    {
     "name": "stdout",
     "output_type": "stream",
     "text": [
      "given number is greater than 15 and less than 24\n"
     ]
    }
   ],
   "source": [
    "#50)WAC to the given number is greater than 15 &amp; less than 24\n",
    "a = 20\n",
    "if 15<=a<=24:\n",
    "    print(\"given number is greater than 15 and less than 24\")"
   ]
  },
  {
   "cell_type": "code",
   "execution_count": 14,
   "metadata": {},
   "outputs": [
    {
     "name": "stdout",
     "output_type": "stream",
     "text": [
      "even number\n"
     ]
    }
   ],
   "source": [
    "#51)WAC to the given number is even.\n",
    "a = 4\n",
    "if a%2 == 0:\n",
    "    print(\"even number\")"
   ]
  },
  {
   "cell_type": "code",
   "execution_count": null,
   "metadata": {},
   "outputs": [],
   "source": [
    "#52)\n"
   ]
  },
  {
   "cell_type": "code",
   "execution_count": 15,
   "metadata": {},
   "outputs": [
    {
     "name": "stdout",
     "output_type": "stream",
     "text": [
      "hellohellohellohellohellohello\n"
     ]
    }
   ],
   "source": [
    "#53)WAC to perform the replication of a given string with 6.\n",
    "a = \"hello\"\n",
    "b = a * 6\n",
    "print(b)\n"
   ]
  },
  {
   "cell_type": "code",
   "execution_count": 18,
   "metadata": {},
   "outputs": [
    {
     "name": "stdout",
     "output_type": "stream",
     "text": [
      "given number is divisible by 3 and greater than 22\n"
     ]
    }
   ],
   "source": [
    "#54)WAC to the given number is divisible by 3 and also the number should be greater than 22.\n",
    "a = 27\n",
    "if a%3 == 0 and a>22:\n",
    "    print(\"given number is divisible by 3 and greater than 22\")"
   ]
  },
  {
   "cell_type": "code",
   "execution_count": 19,
   "metadata": {},
   "outputs": [
    {
     "name": "stdout",
     "output_type": "stream",
     "text": [
      "even\n"
     ]
    }
   ],
   "source": [
    "#55)WAC to perform the length of the collection is even or not.\n",
    "a = [1,2,3,4]\n",
    "b = len(a)\n",
    "if b%2 == 0:\n",
    "    print(\"even\")"
   ]
  },
  {
   "cell_type": "code",
   "execution_count": 26,
   "metadata": {},
   "outputs": [
    {
     "name": "stdout",
     "output_type": "stream",
     "text": [
      "the length of the collection is not less then 55 and gretaer than 16\n"
     ]
    }
   ],
   "source": [
    "#56)WAC to perform  the length of the collection is less than 55 and greater than 16.\n",
    "a = [1,2,3,4]\n",
    "b = len(a)\n",
    "if b<55 and b>16:\n",
    "    print(\"the length of the collection is less then 55 and gretaer than 16\")\n",
    "else:\n",
    "    print(\"the length of the collection is not less then 55 and gretaer than 16\")"
   ]
  },
  {
   "cell_type": "code",
   "execution_count": 27,
   "metadata": {},
   "outputs": [
    {
     "name": "stdout",
     "output_type": "stream",
     "text": [
      "the given length of the collection is divisible by 5 and odd\n"
     ]
    }
   ],
   "source": [
    "#57)WAC to perform  the length of the collection is divisible by 5 and odd.\n",
    "a = 25\n",
    "if a%2 != 0 and a%5 == 0:\n",
    "    print(\"the given length of the collection is divisible by 5 and odd\")"
   ]
  },
  {
   "cell_type": "code",
   "execution_count": null,
   "metadata": {},
   "outputs": [],
   "source": [
    "#58)WAC to extract the middle position of a given collection.(str, lis, tuple)\n",
    "a = [1,2,3,4,5,6]\n",
    "b = "
   ]
  },
  {
   "cell_type": "code",
   "execution_count": 28,
   "metadata": {},
   "outputs": [
    {
     "name": "stdout",
     "output_type": "stream",
     "text": [
      "greater than 20 and less than 30 and it is even\n"
     ]
    }
   ],
   "source": [
    "#59)WAC to the given number is greater than 20 and less than 30 and it should be even.\n",
    "a = 26\n",
    "if a%2 == 0  and a>20 and a<30:\n",
    "    print(\"greater than 20 and less than 30 and it is even\")"
   ]
  },
  {
   "cell_type": "code",
   "execution_count": 1,
   "metadata": {},
   "outputs": [
    {
     "name": "stdout",
     "output_type": "stream",
     "text": [
      "a is even and less then 120\n"
     ]
    }
   ],
   "source": [
    "#60)WAC to the given number is even and it should be less than 120.\n",
    "a=30\n",
    "if a<120 and a%2==0:\n",
    "    print(\"a is even and less then 120\")"
   ]
  },
  {
   "cell_type": "code",
   "execution_count": 4,
   "metadata": {},
   "outputs": [
    {
     "name": "stdout",
     "output_type": "stream",
     "text": [
      "a is in between 40 and 70 and even number\n"
     ]
    }
   ],
   "source": [
    "#61)WAC to the given number is even and present from 40 to 70 \n",
    "a=60\n",
    "if a>40 and a<70 and a%2==0:\n",
    "    print(\"a is in between 40 and 70 and even number\")"
   ]
  },
  {
   "cell_type": "code",
   "execution_count": 5,
   "metadata": {},
   "outputs": [
    {
     "name": "stdout",
     "output_type": "stream",
     "text": [
      "a is odd and greater then 97\n"
     ]
    }
   ],
   "source": [
    "#62)WAC to the given number is odd and it should be greater than 97.\n",
    "a=99\n",
    "if a%2!=0 and a>97:\n",
    "    print(\"a is odd and greater then 97\")"
   ]
  },
  {
   "cell_type": "code",
   "execution_count": 6,
   "metadata": {},
   "outputs": [
    {
     "name": "stdout",
     "output_type": "stream",
     "text": [
      "a is greater then 122 and less then 48\n"
     ]
    }
   ],
   "source": [
    "#63)WAC to the given number is less than 122 and greater than 48 and the number\n",
    "a=99\n",
    "if a<122 and a>48:\n",
    "    print(\"a is greater then 122 and less then 48\")"
   ]
  },
  {
   "cell_type": "code",
   "execution_count": 7,
   "metadata": {},
   "outputs": [
    {
     "name": "stdout",
     "output_type": "stream",
     "text": [
      "a is divisible by 3 and 5\n"
     ]
    }
   ],
   "source": [
    "#64)WAC to the given number is divisible by 3 or 5, displaying the value.\n",
    "a=15\n",
    "if a%5==0 and a%3==0:\n",
    "    print(\"a is divisible by 3 and 5\")"
   ]
  },
  {
   "cell_type": "code",
   "execution_count": 8,
   "metadata": {},
   "outputs": [
    {
     "name": "stdout",
     "output_type": "stream",
     "text": [
      "a is in between 100 and 200\n"
     ]
    }
   ],
   "source": [
    "#65)WAC to the given number is between 100 to 200 including the limit.\n",
    "a=150\n",
    "if a>100 and a<200:\n",
    "    print(\"a is in between 100 and 200\")"
   ]
  },
  {
   "cell_type": "code",
   "execution_count": null,
   "metadata": {},
   "outputs": [],
   "source": [
    "#66)WAC to the given number is in between 100 to 200.\n",
    "a=150\n",
    "if a>100 and a<200:\n",
    "    print(\"a is in between 100 and 200\")"
   ]
  },
  {
   "cell_type": "code",
   "execution_count": 10,
   "metadata": {},
   "outputs": [
    {
     "name": "stdout",
     "output_type": "stream",
     "text": [
      "last character is divisible by 5\n"
     ]
    }
   ],
   "source": [
    "#67)WAC to the given string&#39;s last character ASCII value should be divisible by 5. \n",
    "a=\"&#39;s\"\n",
    "b=a[-1]\n",
    "c=ord(b)\n",
    "if c%5==0:\n",
    "    print(\"last character is divisible by 5\")"
   ]
  },
  {
   "cell_type": "code",
   "execution_count": 29,
   "metadata": {},
   "outputs": [
    {
     "name": "stdout",
     "output_type": "stream",
     "text": [
      "criteria does not match\n"
     ]
    }
   ],
   "source": [
    "#68)WAC to the given number is present between 60 to 130 and the number should be\n",
    "#divisible by 3 and 4 and the last digit should be greater than 9.\n",
    "a= 120\n",
    "b = a%10\n",
    "if a <= 60 <= 130 and a%3 == 0 and a%4 == 0 and b>9:\n",
    "    print(\"matches all criteria\")\n",
    "else:\n",
    "    print(\"criteria does not match\")\n"
   ]
  },
  {
   "cell_type": "code",
   "execution_count": 30,
   "metadata": {},
   "outputs": [
    {
     "name": "stdout",
     "output_type": "stream",
     "text": [
      "even number and less than 25\n"
     ]
    }
   ],
   "source": [
    "#69)WAC to the given number is even or less than 25.\n",
    "a = 24\n",
    "if a%2 == 0 and a<25:\n",
    "    print(\"even number and less than 25\")"
   ]
  },
  {
   "cell_type": "code",
   "execution_count": 31,
   "metadata": {},
   "outputs": [
    {
     "name": "stdout",
     "output_type": "stream",
     "text": [
      "even number and less than 25\n"
     ]
    }
   ],
   "source": [
    "#70)WAC to the given number is even or greater than 25.\n",
    "a = 26\n",
    "if a%2 == 0 and a>25:\n",
    "    print(\"even number and less than 25\")"
   ]
  },
  {
   "cell_type": "code",
   "execution_count": 33,
   "metadata": {},
   "outputs": [
    {
     "name": "stdout",
     "output_type": "stream",
     "text": [
      "divisible by 3 or 5\n"
     ]
    }
   ],
   "source": [
    "#71)WAC to the given number is divisible by either 3 or 5.\n",
    "a = 25\n",
    "if a%3 == 0 or a%5 == 0:\n",
    "    print(\"divisible by 3 or 5\")\n"
   ]
  },
  {
   "cell_type": "code",
   "execution_count": 34,
   "metadata": {},
   "outputs": [
    {
     "name": "stdout",
     "output_type": "stream",
     "text": [
      "given number is  not an even number\n"
     ]
    }
   ],
   "source": [
    "#72)WAC to the given number is not an even number.\n",
    "a = 5\n",
    "if a%2 != 0:\n",
    "    print(\"given number is  not an even number\")"
   ]
  },
  {
   "cell_type": "code",
   "execution_count": 35,
   "metadata": {},
   "outputs": [
    {
     "name": "stdout",
     "output_type": "stream",
     "text": [
      "given number is  not and odd number\n"
     ]
    }
   ],
   "source": [
    "#73)WAC to the given number is not a odd number\n",
    "a = 4\n",
    "if a%2 == 0:\n",
    "    print(\"given number is  not and odd number\")"
   ]
  },
  {
   "cell_type": "code",
   "execution_count": 37,
   "metadata": {},
   "outputs": [
    {
     "name": "stdout",
     "output_type": "stream",
     "text": [
      "not divisible by 3\n"
     ]
    }
   ],
   "source": [
    "#74)WAC to the given number is not a divisible by 3\n",
    "a = 10\n",
    "if a%3 == 0:\n",
    "    print(\"divisible by 3\")\n",
    "else:\n",
    "    print(\"not divisible by 3\")"
   ]
  },
  {
   "cell_type": "code",
   "execution_count": 38,
   "metadata": {},
   "outputs": [
    {
     "name": "stdout",
     "output_type": "stream",
     "text": [
      "divisible by 3 and 5\n"
     ]
    }
   ],
   "source": [
    "#75)WAC to the given number is not a divisible by 3 and  5\n",
    "a = 15\n",
    "if a%3 == 0 and a%5 == 0:\n",
    "    print(\"divisible by 3 and 5\")\n"
   ]
  },
  {
   "cell_type": "code",
   "execution_count": 39,
   "metadata": {},
   "outputs": [
    {
     "name": "stdout",
     "output_type": "stream",
     "text": [
      "divisible by 3 or 5\n"
     ]
    }
   ],
   "source": [
    "#76)WAC to the given number is not a divisible by 3 or 5\n",
    "a = 25\n",
    "if a%3 == 0 or a%5 == 0:\n",
    "    print(\"divisible by 3 or 5\")"
   ]
  },
  {
   "cell_type": "code",
   "execution_count": 45,
   "metadata": {},
   "outputs": [
    {
     "name": "stdout",
     "output_type": "stream",
     "text": [
      "ascii value is divisble by 5\n"
     ]
    }
   ],
   "source": [
    "#77)WAC to the given character ascii value is not divisible by 5.\n",
    "a = 'i'\n",
    "b = ord(a)\n",
    "if b%5 == 0:\n",
    "    print(\"ascii value is divisble by 5\")\n"
   ]
  },
  {
   "cell_type": "code",
   "execution_count": 46,
   "metadata": {},
   "outputs": [
    {
     "name": "stdout",
     "output_type": "stream",
     "text": [
      "98\n"
     ]
    }
   ],
   "source": [
    "#78)WAC to find out the ascii character in a given number.\n",
    "a = 'b'\n",
    "print(ord(a))"
   ]
  },
  {
   "cell_type": "code",
   "execution_count": 48,
   "metadata": {},
   "outputs": [
    {
     "name": "stdout",
     "output_type": "stream",
     "text": [
      "m\n"
     ]
    }
   ],
   "source": [
    "#79)WAC to find out the ascii value in a given character.\n",
    "a = 109\n",
    "print(chr(a))"
   ]
  },
  {
   "cell_type": "code",
   "execution_count": 49,
   "metadata": {},
   "outputs": [
    {
     "name": "stdout",
     "output_type": "stream",
     "text": [
      "given character is uppercase\n"
     ]
    }
   ],
   "source": [
    "#80)WAC to the given character is uppercase or not.\n",
    "a = 'S'\n",
    "if 'A' <= a <= 'Z':\n",
    "    print(\"given character is uppercase\")"
   ]
  },
  {
   "cell_type": "code",
   "execution_count": 52,
   "metadata": {},
   "outputs": [
    {
     "name": "stdout",
     "output_type": "stream",
     "text": [
      "given character is alphabet\n"
     ]
    }
   ],
   "source": [
    "#81)WAC to the given character is the alphabet.\n",
    "a = 's'\n",
    "if 'A' <= a <= 'Z' or 'a' <= a <= 'z':\n",
    "    print(\"given character is alphabet\")\n",
    "    "
   ]
  },
  {
   "cell_type": "code",
   "execution_count": 53,
   "metadata": {},
   "outputs": [
    {
     "name": "stdout",
     "output_type": "stream",
     "text": [
      "given character is lowercase\n"
     ]
    }
   ],
   "source": [
    "#82)WAC to the given character is lowercase.\n",
    "a = 's'\n",
    "if 'a' <= a <= 'z':\n",
    "    print(\"given character is lowercase\")"
   ]
  },
  {
   "cell_type": "code",
   "execution_count": 54,
   "metadata": {},
   "outputs": [
    {
     "name": "stdout",
     "output_type": "stream",
     "text": [
      "ascii number\n"
     ]
    }
   ],
   "source": [
    "#83)WAC to the given character is the ascii number.\n",
    "a = 5\n",
    "if 0<=a<=9:\n",
    "    print(\"ascii number\")"
   ]
  },
  {
   "cell_type": "code",
   "execution_count": 55,
   "metadata": {},
   "outputs": [
    {
     "name": "stdout",
     "output_type": "stream",
     "text": [
      "special character\n"
     ]
    }
   ],
   "source": [
    "#84)WAC to the given character is the special character.\n",
    "a = '#'\n",
    "if not('A'<= a <= 'Z' and 'a'<= a <= 'z' and 0<=a<=9):\n",
    "    print(\"special character\")\n"
   ]
  },
  {
   "cell_type": "code",
   "execution_count": 1,
   "metadata": {},
   "outputs": [
    {
     "name": "stdout",
     "output_type": "stream",
     "text": [
      "not an uppercase\n"
     ]
    }
   ],
   "source": [
    "#85)WAC to the given character should not be uppercase.\n",
    "a = 's'\n",
    "if not('A'<=a<='Z'):\n",
    "    print(\"not an uppercase\")\n"
   ]
  },
  {
   "cell_type": "code",
   "execution_count": 3,
   "metadata": {},
   "outputs": [
    {
     "name": "stdout",
     "output_type": "stream",
     "text": [
      "not a lowercase\n"
     ]
    }
   ],
   "source": [
    "#86)WAC to the given character should not be lowercase.\n",
    "a= 'S'\n",
    "if not('a'<=a<='z'):\n",
    "    print(\"not a lowercase\")\n"
   ]
  },
  {
   "cell_type": "code",
   "execution_count": 6,
   "metadata": {},
   "outputs": [
    {
     "name": "stdout",
     "output_type": "stream",
     "text": [
      "not an alphabet\n"
     ]
    }
   ],
   "source": [
    "#87)WAC to the given character should not be the alphabet.\n",
    "a = '0'\n",
    "if not('A'<=a<='z'):\n",
    "    print(\"not an alphabet\")"
   ]
  },
  {
   "cell_type": "code",
   "execution_count": 8,
   "metadata": {},
   "outputs": [
    {
     "name": "stdout",
     "output_type": "stream",
     "text": [
      "not an ascii number\n"
     ]
    }
   ],
   "source": [
    "#88)WAC to the given character should not be an ascii number.\n",
    "a = 's'\n",
    "if not('0'<=a<='9'):\n",
    "    print(\"not an ascii number\")\n"
   ]
  },
  {
   "cell_type": "code",
   "execution_count": 9,
   "metadata": {},
   "outputs": [
    {
     "name": "stdout",
     "output_type": "stream",
     "text": [
      "special character\n"
     ]
    }
   ],
   "source": [
    "#89)WAC to the given character is the special character.\n",
    "a = '*'\n",
    "if not('A'<=a<='z' and '0'<=a<='9'):\n",
    "    print(\"special character\")\n"
   ]
  },
  {
   "cell_type": "code",
   "execution_count": 11,
   "metadata": {},
   "outputs": [
    {
     "name": "stdout",
     "output_type": "stream",
     "text": [
      "vowel\n"
     ]
    }
   ],
   "source": [
    "#90)WAC to the given character is a vowel.\n",
    "a = 'e'\n",
    "if a in 'aeiouAEIOU':\n",
    "    print(\"vowel\")"
   ]
  },
  {
   "cell_type": "code",
   "execution_count": 12,
   "metadata": {},
   "outputs": [
    {
     "name": "stdout",
     "output_type": "stream",
     "text": [
      "consonant\n"
     ]
    }
   ],
   "source": [
    "#91)WAC to the given character is  a consonant\n",
    "a = 'b'\n",
    "if a in 'bcdfghjklmnprstvwxyz':\n",
    "    print(\"consonant\")"
   ]
  },
  {
   "cell_type": "code",
   "execution_count": 14,
   "metadata": {},
   "outputs": [
    {
     "name": "stdout",
     "output_type": "stream",
     "text": [
      "a\n"
     ]
    }
   ],
   "source": [
    "#92)WAS to convert uppercase to lowercase in a given character.\n",
    "a = 'A'\n",
    "if 'A'<=a<='Z':\n",
    "    print(chr(ord(a) + 32))"
   ]
  },
  {
   "cell_type": "code",
   "execution_count": 15,
   "metadata": {},
   "outputs": [
    {
     "name": "stdout",
     "output_type": "stream",
     "text": [
      "A\n"
     ]
    }
   ],
   "source": [
    "#93)WAS to convert lowercase to uppercase in a given character. \n",
    "a = 'a'\n",
    "if 'a'<=a<='z':\n",
    "    print(chr(ord(a) - 32))"
   ]
  },
  {
   "cell_type": "code",
   "execution_count": 17,
   "metadata": {},
   "outputs": [
    {
     "name": "stdout",
     "output_type": "stream",
     "text": [
      "b\n"
     ]
    }
   ],
   "source": [
    "#94)WAS to extract the previous character in the given character.\n",
    "a = 'c'\n",
    "print(chr(ord(a) - 1))"
   ]
  },
  {
   "cell_type": "code",
   "execution_count": 18,
   "metadata": {},
   "outputs": [
    {
     "name": "stdout",
     "output_type": "stream",
     "text": [
      "e\n"
     ]
    }
   ],
   "source": [
    "#95)WAS to extract the next character in the given character.\n",
    "a = 'd'\n",
    "print(chr(ord(a) + 1))"
   ]
  }
 ],
 "metadata": {
  "kernelspec": {
   "display_name": "Python 3",
   "language": "python",
   "name": "python3"
  },
  "language_info": {
   "codemirror_mode": {
    "name": "ipython",
    "version": 3
   },
   "file_extension": ".py",
   "mimetype": "text/x-python",
   "name": "python",
   "nbconvert_exporter": "python",
   "pygments_lexer": "ipython3",
   "version": "3.10.8"
  },
  "orig_nbformat": 4
 },
 "nbformat": 4,
 "nbformat_minor": 2
}
