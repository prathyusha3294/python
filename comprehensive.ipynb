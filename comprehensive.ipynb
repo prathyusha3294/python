{
 "cells": [
  {
   "cell_type": "code",
   "execution_count": 1,
   "metadata": {},
   "outputs": [
    {
     "name": "stdout",
     "output_type": "stream",
     "text": [
      "['A', 'B', 'C', 'D', 'E', 'F', 'G', 'H', 'I', 'J', 'K', 'L', 'M', 'N', 'O', 'P', 'Q', 'R', 'S', 'T', 'U', 'V', 'W', 'X', 'Y', 'Z']\n"
     ]
    }
   ],
   "source": [
    "#wap to geneate the sequence of alphabets with given range by using List comprehension\n",
    "l = [chr(i) for i in range(65,91)]\n",
    "print(l)"
   ]
  },
  {
   "cell_type": "code",
   "execution_count": 3,
   "metadata": {},
   "outputs": [
    {
     "name": "stdout",
     "output_type": "stream",
     "text": [
      "[10, 20, 30]\n"
     ]
    }
   ],
   "source": [
    "st='10, 20, 30'\n",
    "# o/p:[10,20,30]\n",
    "l = [int(i) for i in st.split(',')]\n",
    "print(l)"
   ]
  },
  {
   "cell_type": "code",
   "execution_count": 4,
   "metadata": {},
   "outputs": [
    {
     "name": "stdout",
     "output_type": "stream",
     "text": [
      "['sai@', ', rani@', ', ramana@outlook.com']\n"
     ]
    }
   ],
   "source": [
    "st = 'sai@gmail.com, rani@gmail.com, ramana@outlook.com'    \n",
    "ls = [i for i in st.split('@gmail.com')]\n",
    "print(ls)"
   ]
  },
  {
   "cell_type": "code",
   "execution_count": 5,
   "metadata": {},
   "outputs": [
    {
     "name": "stdout",
     "output_type": "stream",
     "text": [
      "eo123\n"
     ]
    }
   ],
   "source": [
    "#wap to extract the vowels and ascii numbers from given string using list comprehensive\n",
    "st = \"Hello123$%\"\n",
    "l = ''.join([i for i in st if i in 'aeiouAEIOU' or '0'<=i<='9'])\n",
    "print(l)"
   ]
  }
 ],
 "metadata": {
  "kernelspec": {
   "display_name": "Python 3",
   "language": "python",
   "name": "python3"
  },
  "language_info": {
   "codemirror_mode": {
    "name": "ipython",
    "version": 3
   },
   "file_extension": ".py",
   "mimetype": "text/x-python",
   "name": "python",
   "nbconvert_exporter": "python",
   "pygments_lexer": "ipython3",
   "version": "3.10.8"
  }
 },
 "nbformat": 4,
 "nbformat_minor": 2
}
